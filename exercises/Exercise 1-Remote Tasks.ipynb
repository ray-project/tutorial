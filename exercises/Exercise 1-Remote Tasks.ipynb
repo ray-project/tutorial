{
 "cells": [
  {
   "cell_type": "markdown",
   "metadata": {
    "collapsed": true
   },
   "source": [
    "# Remote task tutorial\n",
    "\n",
    "The goal of this exercise is to show how to run simple tasks in parallel.\n",
    "\n",
    "EXERCISE: This script is too slow, and the computation is embarrassingly\n",
    "parallel. Use Ray to execute the functions in parallel to speed it up.\n",
    "\n",
    "NOTE: This exercise should work even if you have only one core on your\n",
    "machine because the function that we're parallelizing is just sleeping.\n",
    "However, in general you would not expect a larger speedup than the number of\n",
    "cores on the machine."
   ]
  },
  {
   "cell_type": "code",
   "execution_count": 2,
   "metadata": {
    "collapsed": true
   },
   "outputs": [],
   "source": [
    "from __future__ import absolute_import\n",
    "from __future__ import division\n",
    "from __future__ import print_function\n",
    "\n",
    "import time"
   ]
  },
  {
   "cell_type": "code",
   "execution_count": 3,
   "metadata": {},
   "outputs": [
    {
     "name": "stdout",
     "output_type": "stream",
     "text": [
      "Waiting for redis server at 127.0.0.1:52357 to respond...\n",
      "Starting local scheduler with 4 CPUs and 0 GPUs.\n",
      "Failed to start polymer.\n"
     ]
    },
    {
     "data": {
      "text/plain": [
       "{'local_scheduler_socket_names': ['/tmp/scheduler31442711'],\n",
       " 'node_ip_address': '127.0.0.1',\n",
       " 'object_store_addresses': [ObjectStoreAddress(name='/tmp/plasma_store52149495', manager_name='/tmp/plasma_manager69991655', manager_port=61306)],\n",
       " 'redis_address': '127.0.0.1:52357'}"
      ]
     },
     "execution_count": 3,
     "metadata": {},
     "output_type": "execute_result"
    }
   ],
   "source": [
    "import ray\n",
    "\n",
    "# Start Ray. By default, Ray does not schedule more tasks concurrently than\n",
    "# there are CPUs. This example requires four tasks to run concurrently, so we\n",
    "# tell Ray that there are four CPUs. Usually this is not done and Ray\n",
    "# computes the number of CPUs using psutil.cpu_count(). The argument\n",
    "# redirect_output=True just hides some logging.\n",
    "ray.init(num_cpus=4, redirect_output=True)"
   ]
  },
  {
   "cell_type": "code",
   "execution_count": 4,
   "metadata": {
    "collapsed": true
   },
   "outputs": [],
   "source": [
    "# This function is a proxy for a more interesting and computationally\n",
    "# intensive function.\n",
    "def slow_function(i):\n",
    "    time.sleep(1)\n",
    "    return i"
   ]
  },
  {
   "cell_type": "code",
   "execution_count": null,
   "metadata": {
    "collapsed": true
   },
   "outputs": [],
   "source": [
    "# Sleep a little to improve the accuracy of the timing measurements below.\n",
    "time.sleep(0.5)\n",
    "start_time = time.time()\n",
    "\n",
    "# This loop is too slow. The calls to slow_function should happen in\n",
    "# parallel.\n",
    "results = []\n",
    "for i in range(4):\n",
    "    results.append(slow_function(i))\n",
    "\n",
    "end_time = time.time()\n",
    "duration = end_time - start_time"
   ]
  },
  {
   "cell_type": "code",
   "execution_count": null,
   "metadata": {
    "collapsed": true
   },
   "outputs": [],
   "source": [
    "# Make sure we get the correct results and that they were parallelized.\n",
    "assert results == [0, 1, 2, 3]\n",
    "assert duration < 1.1, (\"The loop took {} seconds. This is too slow.\"\n",
    "                      .format(duration))"
   ]
  }
 ],
 "metadata": {
  "kernelspec": {
   "display_name": "Python 2",
   "language": "python",
   "name": "python2"
  },
  "language_info": {
   "codemirror_mode": {
    "name": "ipython",
    "version": 2
   },
   "file_extension": ".py",
   "mimetype": "text/x-python",
   "name": "python",
   "nbconvert_exporter": "python",
   "pygments_lexer": "ipython2",
   "version": "2.7.13"
  }
 },
 "nbformat": 4,
 "nbformat_minor": 2
}
