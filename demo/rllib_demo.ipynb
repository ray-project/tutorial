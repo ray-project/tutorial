{
 "cells": [
  {
   "cell_type": "markdown",
   "metadata": {
    "slideshow": {
     "slide_type": "slide"
    }
   },
   "source": [
    "# RLlib Demo: Solving Mountain Car\n",
    "\n",
    "<img src=\"http://skyai.org/wiki/?plugin=ref&page=Documentation%2FTutorial%20-%20Example%20-%20Mountain%20Car&src=mountaincar.png\" width=\"800px\" />\n",
    "\n",
    "Demo created by [Peter Schafhalter](https://github.com/pschafhalter/)\n",
    "\n",
    "Image source: [skyai.org](http://skyai.org/wiki/?plugin=ref&page=Documentation%2FTutorial%20-%20Example%20-%20Mountain%20Car&src=mountaincar.png)"
   ]
  },
  {
   "cell_type": "markdown",
   "metadata": {
    "slideshow": {
     "slide_type": "slide"
    }
   },
   "source": [
    "## Setup"
   ]
  },
  {
   "cell_type": "code",
   "execution_count": null,
   "metadata": {
    "slideshow": {
     "slide_type": "fragment"
    }
   },
   "outputs": [],
   "source": [
    "import ray\n",
    "from ray import tune\n",
    "from utils import MOUNTAINCAR_DEFAULT_CONFIG"
   ]
  },
  {
   "cell_type": "code",
   "execution_count": null,
   "metadata": {
    "slideshow": {
     "slide_type": "fragment"
    }
   },
   "outputs": [],
   "source": [
    "CLUSTER_ADDRESS = None  # Set this value to run on cluster\n",
    "ray.init(redis_address=CLUSTER_ADDRESS, include_webui=True)"
   ]
  },
  {
   "cell_type": "markdown",
   "metadata": {
    "slideshow": {
     "slide_type": "slide"
    }
   },
   "source": [
    "## Configuring RLlib"
   ]
  },
  {
   "cell_type": "markdown",
   "metadata": {
    "slideshow": {
     "slide_type": "subslide"
    }
   },
   "source": [
    "```json\n",
    "config = {\n",
    "   \"env\": \"MountainCarContinuous-v0\",\n",
    "   \"actor_hiddens\": [32, 64],\n",
    "   \"critic_hiddens\": [64, 64],\n",
    "   \"actor_lr\": 1e-3,\n",
    "   \"critic_lr\": 1e-3,\n",
    "   \"l2_reg\": 1e-5,\n",
    "}\n",
    "```"
   ]
  },
  {
   "cell_type": "code",
   "execution_count": null,
   "metadata": {
    "slideshow": {
     "slide_type": "subslide"
    }
   },
   "outputs": [],
   "source": [
    "config = MOUNTAINCAR_DEFAULT_CONFIG.copy()\n",
    "config"
   ]
  },
  {
   "cell_type": "markdown",
   "metadata": {
    "slideshow": {
     "slide_type": "slide"
    }
   },
   "source": [
    "## Running an Experiment\n",
    "\n",
    "<!-- Set this link to open tensorflow while presenting -->\n",
    "[Tensorboard](http://127.0.0.1:6006)"
   ]
  },
  {
   "cell_type": "code",
   "execution_count": null,
   "metadata": {
    "slideshow": {
     "slide_type": "subslide"
    }
   },
   "outputs": [],
   "source": [
    "# Modify the l2 regularization hyperparameter\n",
    "config[\"l2_reg\"] = 1e-1\n",
    "\n",
    "# Run the RL experiment using the DDPG algorithm\n",
    "tune.run(\"DDPG\", stop={\n",
    "      \"time_total_s\": 60  # Stop after 60 seconds\n",
    "    },\n",
    "    config=config)"
   ]
  },
  {
   "cell_type": "markdown",
   "metadata": {
    "slideshow": {
     "slide_type": "slide"
    }
   },
   "source": [
    "## Searching for Hyperparameters\n",
    "\n",
    "1. Replace hyperparameter's value with `tune.grid_search([1, 2, 3, 4, 5])`\n",
    "   - `l2_reg=1e-1` becomes `l2_reg=tune.grid_search([1e-1, 1e-3, 1e-5, 1e-7])`\n",
    "   - Can also sample from a continuous PDF"
   ]
  },
  {
   "cell_type": "code",
   "execution_count": null,
   "metadata": {
    "slideshow": {
     "slide_type": "subslide"
    }
   },
   "outputs": [],
   "source": [
    "# Run a grid search in parallel for the l2 regularization hyperparameter\n",
    "config[\"l2_reg\"] = tune.grid_search([1e-1, 1e-3, 1e-5, 1e-7])\n",
    "\n",
    "tune.run(\"DDPG\", stop={\n",
    "      \"episode_reward_mean\": 90,  # Stop if the algorithm achieves a mean reward of 90\n",
    "      \"time_total_s\": 600         # Stop after 600 seconds\n",
    "    },\n",
    "    config=config)"
   ]
  }
 ],
 "metadata": {
  "celltoolbar": "Slideshow",
  "kernelspec": {
   "display_name": "Python 3",
   "language": "python",
   "name": "python3"
  },
  "language_info": {
   "codemirror_mode": {
    "name": "ipython",
    "version": 3
   },
   "file_extension": ".py",
   "mimetype": "text/x-python",
   "name": "python",
   "nbconvert_exporter": "python",
   "pygments_lexer": "ipython3",
   "version": "3.6.8"
  }
 },
 "nbformat": 4,
 "nbformat_minor": 2
}
