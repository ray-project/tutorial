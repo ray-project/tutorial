{
 "cells": [
  {
   "cell_type": "markdown",
   "metadata": {},
   "source": [
    "To run this, You first have to install the pong_py gym environment.\n",
    "\n",
    "```bash\n",
    "git clone https://github.com/robertnishihara/pong_py\n",
    "cd pong_py\n",
    "git checkout updates\n",
    "python setup.py install\n",
    "```"
   ]
  },
  {
   "cell_type": "code",
   "execution_count": null,
   "metadata": {},
   "outputs": [],
   "source": [
    "import gym\n",
    "import pong_py\n",
    "import ray\n",
    "from ray.rllib.policy_gradient import PolicyGradient, DEFAULT_CONFIG"
   ]
  },
  {
   "cell_type": "code",
   "execution_count": null,
   "metadata": {},
   "outputs": [],
   "source": [
    "ray.init(num_workers=0)"
   ]
  },
  {
   "cell_type": "code",
   "execution_count": null,
   "metadata": {},
   "outputs": [],
   "source": [
    "# TODO(rkn): Defining this remote function is a HACK used to force\n",
    "# pong_py to be imported on all of the workers/actors. When pong_py\n",
    "# is imported, the 'PongJS-v0' gym environment is registered.\n",
    "@ray.remote\n",
    "def f():\n",
    "    pong_py\n",
    "\n",
    "# env = gym.make('PongJS-v0')"
   ]
  },
  {
   "cell_type": "code",
   "execution_count": null,
   "metadata": {},
   "outputs": [],
   "source": [
    "config = DEFAULT_CONFIG.copy()\n",
    "config['num_workers'] = 3\n",
    "config['model']['fcnet_hiddens'] = [32, 32]\n",
    "\n",
    "algorithm = PolicyGradient('PongJS-v0', DEFAULT_CONFIG)\n",
    "# algorithm = PolicyGradient('CartPole-v0', DEFAULT_CONFIG)"
   ]
  },
  {
   "cell_type": "code",
   "execution_count": null,
   "metadata": {},
   "outputs": [],
   "source": [
    "for i in range(3):\n",
    "    result = algorithm.train()"
   ]
  }
 ],
 "metadata": {
  "kernelspec": {
   "display_name": "Python 3",
   "language": "python",
   "name": "python3"
  },
  "language_info": {
   "codemirror_mode": {
    "name": "ipython",
    "version": 3
   },
   "file_extension": ".py",
   "mimetype": "text/x-python",
   "name": "python",
   "nbconvert_exporter": "python",
   "pygments_lexer": "ipython3",
   "version": "3.6.0"
  }
 },
 "nbformat": 4,
 "nbformat_minor": 2
}
