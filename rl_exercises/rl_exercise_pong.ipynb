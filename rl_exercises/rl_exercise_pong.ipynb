{
 "cells": [
  {
   "cell_type": "markdown",
   "metadata": {},
   "source": [
    "To run this, You first have to install the pong_py gym environment.\n",
    "\n",
    "```bash\n",
    "git clone https://github.com/robertnishihara/pong_py\n",
    "cd pong_py\n",
    "git checkout updates\n",
    "python setup.py install\n",
    "```"
   ]
  },
  {
   "cell_type": "code",
   "execution_count": null,
   "metadata": {
    "collapsed": true
   },
   "outputs": [],
   "source": [
    "import gym\n",
    "import pong_py\n",
    "import ray\n",
    "from ray.rllib.policy_gradient import PolicyGradient, DEFAULT_CONFIG"
   ]
  },
  {
   "cell_type": "code",
   "execution_count": null,
   "metadata": {},
   "outputs": [],
   "source": [
    "ray.init(num_workers=0)"
   ]
  },
  {
   "cell_type": "code",
   "execution_count": null,
   "metadata": {
    "collapsed": true
   },
   "outputs": [],
   "source": [
    "# TODO(rkn): Defining this remote function is a HACK used to force\n",
    "# pong_py to be imported on all of the workers/actors. When pong_py\n",
    "# is imported, the 'PongJS-v0' gym environment is registered.\n",
    "@ray.remote\n",
    "def f():\n",
    "    pong_py"
   ]
  },
  {
   "cell_type": "code",
   "execution_count": null,
   "metadata": {},
   "outputs": [],
   "source": [
    "config = DEFAULT_CONFIG.copy()\n",
    "config['num_agents'] = 0\n",
    "config['num_sgd_iter'] = 20\n",
    "config['sgd_batchsize'] = 1024\n",
    "#config['kl_target'] = 0.1\n",
    "config['model']['fcnet_hiddens'] = []\n",
    "\n",
    "algorithm = PolicyGradient('PongJS-v0', config)"
   ]
  },
  {
   "cell_type": "code",
   "execution_count": null,
   "metadata": {
    "collapsed": true
   },
   "outputs": [],
   "source": [
    "for i in range(30):\n",
    "    result = algorithm.train()"
   ]
  },
  {
   "cell_type": "code",
   "execution_count": null,
   "metadata": {
    "collapsed": true
   },
   "outputs": [],
   "source": [
    "for i in range(70):\n",
    "    result = algorithm.train()"
   ]
  },
  {
   "cell_type": "code",
   "execution_count": null,
   "metadata": {
    "collapsed": true
   },
   "outputs": [],
   "source": [
    "test_config = config.copy()\n",
    "test_config['load_checkpoint'] = '/tmp/ray/PongJS-v0_PolicyGradient_2017-08-23_15-41-55e0uwvwun/iteration-2.ckpt'\n",
    "test_algorithm = PolicyGradient('PongJS-v0', config)"
   ]
  },
  {
   "cell_type": "code",
   "execution_count": null,
   "metadata": {
    "collapsed": true
   },
   "outputs": [],
   "source": [
    "env = gym.make('PongJS-v0')\n",
    "state = env.reset()"
   ]
  },
  {
   "cell_type": "code",
   "execution_count": null,
   "metadata": {
    "collapsed": true
   },
   "outputs": [],
   "source": [
    "\n",
    "test_algorithm.compute_action(state)"
   ]
  },
  {
   "cell_type": "code",
   "execution_count": null,
   "metadata": {
    "collapsed": true
   },
   "outputs": [],
   "source": [
    "env = gym.make('PongJS-v0')\n",
    "state = env.reset()\n",
    "\n",
    "total_reward = 0\n",
    "done = False\n",
    "while not done:\n",
    "    if state[0] > 0:\n",
    "        action = 2\n",
    "    else:\n",
    "        action = 1\n",
    "    state, reward, done, _ = env.step(action)\n",
    "    total_reward += reward\n",
    "print(total_reward)"
   ]
  },
  {
   "cell_type": "code",
   "execution_count": null,
   "metadata": {
    "collapsed": true
   },
   "outputs": [],
   "source": []
  },
  {
   "cell_type": "code",
   "execution_count": null,
   "metadata": {
    "collapsed": true
   },
   "outputs": [],
   "source": [
    "import gym"
   ]
  },
  {
   "cell_type": "code",
   "execution_count": null,
   "metadata": {},
   "outputs": [],
   "source": [
    "list(gym.envs.registry.all())[0].id"
   ]
  },
  {
   "cell_type": "code",
   "execution_count": null,
   "metadata": {
    "collapsed": true
   },
   "outputs": [],
   "source": []
  }
 ],
 "metadata": {
  "kernelspec": {
   "display_name": "Python 3",
   "language": "python",
   "name": "python3"
  },
  "language_info": {
   "codemirror_mode": {
    "name": "ipython",
    "version": 3
   },
   "file_extension": ".py",
   "mimetype": "text/x-python",
   "name": "python",
   "nbconvert_exporter": "python",
   "pygments_lexer": "ipython3",
   "version": "3.6.0"
  }
 },
 "nbformat": 4,
 "nbformat_minor": 2
}
