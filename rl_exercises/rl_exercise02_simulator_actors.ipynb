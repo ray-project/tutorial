{
 "cells": [
  {
   "cell_type": "code",
   "execution_count": null,
   "metadata": {},
   "outputs": [],
   "source": [
    "import gym\n",
    "import ray\n",
    "\n",
    "ray.init()"
   ]
  },
  {
   "cell_type": "code",
   "execution_count": null,
   "metadata": {},
   "outputs": [],
   "source": [
    "# Below is an actor that wraps a gym environment.\n",
    "@ray.remote\n",
    "class EnvActor(object):\n",
    "    def __init__(self):\n",
    "        self.env = gym.make(\"CartPole-v0\")\n",
    "    \n",
    "    def step(action):\n",
    "        return self.env.step(action)"
   ]
  },
  {
   "cell_type": "markdown",
   "metadata": {},
   "source": [
    "**Exercise:** Create an actor with a method `do_rollout`, which takes a policy and uses the policy to produce a rollout."
   ]
  },
  {
   "cell_type": "code",
   "execution_count": null,
   "metadata": {},
   "outputs": [],
   "source": [
    "@ray.remote\n",
    "class RolloutActor(object):\n",
    "    def __init__(self):\n",
    "        self.env = gym.make(\"CartPole-v0\")\n",
    "    \n",
    "    def do_rollout(self, policy):\n",
    "        raise NotImplementedError\n",
    "\n",
    "\n",
    "def sample_policy(state):\n",
    "    return 0 if state[0] < 0 else 1\n",
    "\n",
    "\n",
    "# Create an actor.\n",
    "rollout_actor = RolloutActor.remote()\n",
    "# Do a rollout and get the result.\n",
    "reward = ray.get(rollout_actor.do_rollout.remote(sample_policy))"
   ]
  },
  {
   "cell_type": "markdown",
   "metadata": {},
   "source": [
    "**Exercise:** Create a new actor, which is the same as `RolloutActor` except that it has a method `do_rollouts` which takes a policy and a number `N` and performs `N` rollouts, returning the total cumulative reward."
   ]
  },
  {
   "cell_type": "code",
   "execution_count": null,
   "metadata": {
    "collapsed": true
   },
   "outputs": [],
   "source": [
    "@ray.remote\n",
    "class MultiRolloutActor(object):\n",
    "    def __init__(self):\n",
    "        self.env = gym.make(\"CartPole-v0\")\n",
    "    \n",
    "    def do_rollouts(self, policy, n):\n",
    "        raise NotImplementedError\n",
    "\n",
    "\n",
    "# Create an actor.\n",
    "multi_rollout_actor = MultiRolloutActor.remote()\n",
    "# Do a rollout and get the result.\n",
    "reward = ray.get(multi_rollout_actor.do_rollouts.remote(sample_policy, 10))"
   ]
  }
 ],
 "metadata": {
  "kernelspec": {
   "display_name": "Python 3",
   "language": "python",
   "name": "python3"
  },
  "language_info": {
   "codemirror_mode": {
    "name": "ipython",
    "version": 3
   },
   "file_extension": ".py",
   "mimetype": "text/x-python",
   "name": "python",
   "nbconvert_exporter": "python",
   "pygments_lexer": "ipython3",
   "version": "3.6.0"
  }
 },
 "nbformat": 4,
 "nbformat_minor": 2
}
