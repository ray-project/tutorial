{
 "cells": [
  {
   "cell_type": "code",
   "execution_count": null,
   "metadata": {
    "collapsed": true,
    "hideCode": false,
    "hidePrompt": false
   },
   "outputs": [],
   "source": [
    "from __future__ import absolute_import\n",
    "from __future__ import division\n",
    "from __future__ import print_function\n",
    "\n",
    "import gym\n",
    "import numpy as np\n",
    "\n",
    "# TODO(rkn): Assert that the gym version is recent enough."
   ]
  },
  {
   "cell_type": "markdown",
   "metadata": {
    "hideCode": false,
    "hidePrompt": false
   },
   "source": [
    "## Markov Decision Processes\n",
    "\n",
    "**The key abstraction in reinforcement learning is the Markov decision process (MDP).** TODO(rkn): More details.\n",
    "\n",
    "The `gym` module provides MDP interfaces to a variety of simulators. For example, the CartPole environment interfaces with a simple simulator which simulates the physics of balancing a pole on a cart.\n",
    "\n",
    "## Policies\n",
    "\n",
    "TODO(rkn): Describe what policies are."
   ]
  },
  {
   "cell_type": "code",
   "execution_count": null,
   "metadata": {
    "hideCode": false,
    "hidePrompt": false
   },
   "outputs": [],
   "source": [
    "# Create a new environment.\n",
    "env = gym.make('CartPole-v0')"
   ]
  },
  {
   "cell_type": "code",
   "execution_count": null,
   "metadata": {
    "collapsed": true,
    "hideCode": false,
    "hidePrompt": false
   },
   "outputs": [],
   "source": [
    "# Reset the state of the environment. This returns its initial state.\n",
    "state = env.reset()"
   ]
  },
  {
   "cell_type": "markdown",
   "metadata": {},
   "source": [
    "The `env.step` method takes an action (in the case of the CartPole environment, the appropriate actions are 0 or 1, for moving left or right). It returns a tuple of four things:\n",
    "1. the new state of the environment\n",
    "2. a reward\n",
    "3. a boolean indicating whether the simulation has finished\n",
    "4. a dictionary of miscellaneous extra information"
   ]
  },
  {
   "cell_type": "code",
   "execution_count": null,
   "metadata": {
    "collapsed": true,
    "hideCode": false,
    "hidePrompt": false
   },
   "outputs": [],
   "source": [
    "# Simulate taking an action in the environment. Appropriate actions for\n",
    "# the CartPole environment are 0 and 1 (for moving left and right).\n",
    "action = 0\n",
    "state, reward, done, info = env.step(action)"
   ]
  },
  {
   "cell_type": "markdown",
   "metadata": {},
   "source": [
    "**Exercise:** Implement a function `rollout`, which takes an environment, resets the state of the environment, takes random actions until the simulation has finished, and returns the cumulative reward."
   ]
  },
  {
   "cell_type": "code",
   "execution_count": null,
   "metadata": {},
   "outputs": [],
   "source": [
    "def random_rollout(env):\n",
    "    # This function should do the following:\n",
    "    # - reset the state of the environment\n",
    "    # - take random actions until the simulation has finished\n",
    "    # - return the cumulative reward\n",
    "    raise NotImplementedError\n",
    "    \n",
    "reward = random_rollout(env)"
   ]
  },
  {
   "cell_type": "markdown",
   "metadata": {},
   "source": [
    "**Exercise:** Modify the rollout function to take an environment *and* a policy. The *policy* is a function that takes in a *state* and returns an *action*."
   ]
  },
  {
   "cell_type": "code",
   "execution_count": null,
   "metadata": {},
   "outputs": [],
   "source": [
    "def rollout_policy(env, policy):\n",
    "    # This function should do the following:\n",
    "    # - reset the state of the environment\n",
    "    # - take actions according to the policy until the simulation has finished\n",
    "    # - return the cumulative reward\n",
    "    raise NotImplementedError\n",
    "\n",
    "def sample_policy(state):\n",
    "    return 0 if state[0] < 0 else 1\n",
    "\n",
    "reward = rollout_policy(env, sample_policy)"
   ]
  },
  {
   "cell_type": "markdown",
   "metadata": {},
   "source": [
    "**Exercise (Optional):** Modify the `rollout_policy` function to create a video showing the policy in action. This requires two steps:\n",
    "1. Wrap the environment as follows `env = wrappers.Monitor(env, '/tmp/cartpole-experiment-1')`.\n",
    "2. Call `env.render()` whenever you want to add a frame to the video."
   ]
  },
  {
   "cell_type": "code",
   "execution_count": null,
   "metadata": {},
   "outputs": [],
   "source": [
    "def produce_video_of_rollout(env, policy):\n",
    "    env = wrappers.Monitor(env, '/tmp/cartpole-experiment-1')\n",
    "    raise NotImplementedError\n",
    "\n",
    "# The video will be saved under /tmp/cartpole-experiment-1.\n",
    "produce_video_of_rollout()"
   ]
  }
 ],
 "metadata": {
  "hide_code_all_hidden": false,
  "kernelspec": {
   "display_name": "Python 3",
   "language": "python",
   "name": "python3"
  },
  "language_info": {
   "codemirror_mode": {
    "name": "ipython",
    "version": 3
   },
   "file_extension": ".py",
   "mimetype": "text/x-python",
   "name": "python",
   "nbconvert_exporter": "python",
   "pygments_lexer": "ipython3",
   "version": "3.6.0"
  }
 },
 "nbformat": 4,
 "nbformat_minor": 2
}
