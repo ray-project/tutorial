{
 "cells": [
  {
   "cell_type": "code",
   "execution_count": null,
   "metadata": {},
   "outputs": [],
   "source": [
    "from __future__ import absolute_import\n",
    "from __future__ import division\n",
    "from __future__ import print_function\n",
    "\n",
    "import gym\n",
    "import ray\n",
    "\n",
    "ray.init()"
   ]
  },
  {
   "cell_type": "markdown",
   "metadata": {},
   "source": [
    "**Encapsulating simulator state with actors:** MDPs are stateful, and Ray actors can be used to encapsulate this state. The box below wraps a gym environment in an actor. Instantiating the actor will create a new worker process that holds the state of the gym environment. Method calls on the actor will essentially be tasks or remote procedure calls executed on the actor."
   ]
  },
  {
   "cell_type": "code",
   "execution_count": null,
   "metadata": {},
   "outputs": [],
   "source": [
    "# Define an actor.\n",
    "@ray.remote\n",
    "class EnvActor(object):\n",
    "    def __init__(self):\n",
    "        self.env = gym.make(\"CartPole-v0\")\n",
    "        self.env.reset()\n",
    "    \n",
    "    def step(self, action):\n",
    "        return self.env.step(action)\n",
    "\n",
    "# Instantiate an actor.\n",
    "actor = EnvActor.remote()\n",
    "\n",
    "# Run one step of the simulator on the actor (taking action 0).\n",
    "result_id = actor.step.remote(0)\n",
    "\n",
    "# Get the results.\n",
    "ray.get(result_id)"
   ]
  },
  {
   "cell_type": "markdown",
   "metadata": {},
   "source": [
    "**Exercise:** Create an actor with a method `do_rollout`, which takes a policy and uses the policy to perform a rollout and return the cumulative reward."
   ]
  },
  {
   "cell_type": "code",
   "execution_count": null,
   "metadata": {},
   "outputs": [],
   "source": [
    "@ray.remote\n",
    "class RolloutActor(object):\n",
    "    def __init__(self):\n",
    "        self.env = gym.make(\"CartPole-v0\")\n",
    "    \n",
    "    def do_rollout(self, policy):\n",
    "        # This method should perform a rollout in the environment\n",
    "        # using the policy and it should return the cumulative\n",
    "        # reward.\n",
    "        raise NotImplementedError\n",
    "\n",
    "\n",
    "def sample_policy(state):\n",
    "    return 0 if state[0] < 0 else 1\n",
    "\n",
    "\n",
    "# Create an actor.\n",
    "rollout_actor = RolloutActor.remote()\n",
    "# Do a rollout and get the result.\n",
    "reward = ray.get(rollout_actor.do_rollout.remote(sample_policy))\n",
    "print(reward)\n",
    "# Do a rollout and get the result.\n",
    "reward = ray.get(rollout_actor.do_rollout.remote(sample_policy))\n",
    "print(reward)"
   ]
  },
  {
   "cell_type": "markdown",
   "metadata": {},
   "source": [
    "**Exercise:** Create a new actor, which is the same as `RolloutActor` except that it has a method `do_rollouts` which takes a policy and a number `N` and performs `N` rollouts, returning a list of the rewards obtained."
   ]
  },
  {
   "cell_type": "code",
   "execution_count": null,
   "metadata": {
    "collapsed": true
   },
   "outputs": [],
   "source": [
    "@ray.remote\n",
    "class MultiRolloutActor(object):\n",
    "    def __init__(self):\n",
    "        self.env = gym.make(\"CartPole-v0\")\n",
    "        self.env.reset()\n",
    "    \n",
    "    def do_rollouts(self, policy, n):\n",
    "        raise NotImplementedError\n",
    "\n",
    "\n",
    "# Create an actor.\n",
    "multi_rollout_actor = MultiRolloutActor.remote()\n",
    "# Do ten rollouts and get the results.\n",
    "rewards = ray.get(multi_rollout_actor.do_rollouts.remote(sample_policy, 10))\n",
    "assert len(rewards) == 10"
   ]
  }
 ],
 "metadata": {
  "kernelspec": {
   "display_name": "Python 3",
   "language": "python",
   "name": "python3"
  },
  "language_info": {
   "codemirror_mode": {
    "name": "ipython",
    "version": 3
   },
   "file_extension": ".py",
   "mimetype": "text/x-python",
   "name": "python",
   "nbconvert_exporter": "python",
   "pygments_lexer": "ipython3",
   "version": "3.6.0"
  }
 },
 "nbformat": 4,
 "nbformat_minor": 2
}
