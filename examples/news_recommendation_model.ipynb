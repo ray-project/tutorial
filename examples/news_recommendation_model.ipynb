{
 "cells": [
  {
   "cell_type": "markdown",
   "metadata": {},
   "source": [
    "# Building a simple news recommendation system\n",
    "\n",
    "The goal of this example is to train a very simple news recommendation system. We will\n",
    "- prepare the training data in parallel with Ray\n",
    "- train a simple model that classifies article titles as \"popular\" or \"less popular\" using scikit learn and\n",
    "- find good hyperparameter settings for the model with Tune, Ray's parallel hyperparameter optimization library.\n",
    "\n",
    "### Downloading and preparing the training data\n",
    "\n",
    "<html><img src=\"newsreader_1.png\"/></html>\n",
    "\n",
    "First we will download and uncompress 400,000 hackernews submissions. This is a small subset of the articles that have been submitted to https://news.ycombinator.com. The data includes the title of each submission and its score, which roughly corresponds to the number of upvotes. There are 4 batches of JSON files that contain the information, named `submission-1.json` through `submission-4.json`. The first couple lines of the first file will be printed below by the `head` command."
   ]
  },
  {
   "cell_type": "code",
   "execution_count": 1,
   "metadata": {},
   "outputs": [
    {
     "name": "stdout",
     "output_type": "stream",
     "text": [
      "--2020-01-02 12:16:41--  https://s3-us-west-2.amazonaws.com/ray-tutorials/hackernews.zip\n",
      "Resolving s3-us-west-2.amazonaws.com (s3-us-west-2.amazonaws.com)... 52.218.128.120\n",
      "Connecting to s3-us-west-2.amazonaws.com (s3-us-west-2.amazonaws.com)|52.218.128.120|:443... connected.\n",
      "HTTP request sent, awaiting response... 200 OK\n",
      "Length: 56402193 (54M) [application/zip]\n",
      "Saving to: ‘hackernews.zip’\n",
      "\n",
      "hackernews.zip      100%[===================>]  53.79M  25.7MB/s    in 2.1s    \n",
      "\n",
      "2020-01-02 12:16:44 (25.7 MB/s) - ‘hackernews.zip’ saved [56402193/56402193]\n",
      "\n",
      "Archive:  hackernews.zip\n",
      "  inflating: submission-1.json       \n",
      "  inflating: submission-2.json       \n",
      "  inflating: submission-3.json       \n",
      "  inflating: submission-4.json       \n",
      "{\"body\": {\"descendants\": 0, \"url\": \"http://markpincus.blogspot.com/2005/03/peopleweb-i-believe-we-are-close-to.html\", \"text\": \"\", \"title\": \"The PeopleWeb | Mark Pincus Blog (March 2005)\", \"by\": \"sayemm\", \"score\": 3, \"time\": 1286515576, \"type\": \"story\", \"id\": 1770734}, \"source\": \"firebase\", \"id\": 1770734, \"retrieved_at_ts\": 1436469924}\n",
      "{\"body\": {\"descendants\": 0, \"url\": \"http://omergertel.com/2010/11/16/honing-my-craft/\", \"text\": \"\", \"title\": \"Computer science and programming are two separate things\", \"by\": \"omergertel\", \"score\": 1, \"time\": 1289946709, \"type\": \"story\", \"id\": 1911996}, \"source\": \"firebase\", \"id\": 1911996, \"retrieved_at_ts\": 1436484897}\n"
     ]
    }
   ],
   "source": [
    "!wget -nc https://s3-us-west-2.amazonaws.com/ray-tutorials/hackernews.zip\n",
    "!unzip -o hackernews.zip\n",
    "!head -n 2 submission-1.json"
   ]
  },
  {
   "cell_type": "code",
   "execution_count": 2,
   "metadata": {},
   "outputs": [
    {
     "name": "stdout",
     "output_type": "stream",
     "text": [
      "env: RAY_DASHBOARD_DEBUG=True\n"
     ]
    }
   ],
   "source": [
    "from __future__ import absolute_import\n",
    "from __future__ import division\n",
    "from __future__ import print_function\n",
    "\n",
    "import json\n",
    "import numpy as np\n",
    "import pandas as pd\n",
    "import ray\n",
    "import time\n",
    "\n",
    "%env RAY_DASHBOARD_DEBUG = True"
   ]
  },
  {
   "cell_type": "code",
   "execution_count": 6,
   "metadata": {},
   "outputs": [],
   "source": [
    "ray.shutdown()"
   ]
  },
  {
   "cell_type": "code",
   "execution_count": 7,
   "metadata": {},
   "outputs": [
    {
     "name": "stderr",
     "output_type": "stream",
     "text": [
      "2020-01-02 12:22:17,658\tINFO resource_spec.py:216 -- Starting Ray with 3.32 GiB memory available for workers and up to 1.66 GiB for objects. You can adjust these settings with ray.init(memory=<bytes>, object_store_memory=<bytes>).\n",
      "2020-01-02 12:22:17,900\tINFO services.py:1101 -- View the Ray dashboard at \u001b[1m\u001b[32mlocalhost:8267\u001b[39m\u001b[22m.\n"
     ]
    },
    {
     "data": {
      "text/plain": [
       "{'node_ip_address': '10.1.10.91',\n",
       " 'redis_address': '10.1.10.91:61548',\n",
       " 'object_store_address': '/tmp/ray/session_2020-01-02_12-22-17_649165_4496/sockets/plasma_store',\n",
       " 'raylet_socket_name': '/tmp/ray/session_2020-01-02_12-22-17_649165_4496/sockets/raylet',\n",
       " 'webui_url': 'localhost:8267',\n",
       " 'session_dir': '/tmp/ray/session_2020-01-02_12-22-17_649165_4496'}"
      ]
     },
     "execution_count": 7,
     "metadata": {},
     "output_type": "execute_result"
    }
   ],
   "source": [
    "ray.init(num_cpus=4, include_webui=True, ignore_reinit_error=True)"
   ]
  },
  {
   "cell_type": "markdown",
   "metadata": {},
   "source": [
    "The function below parses a chunk of the data and produces a pandas DataFrame with the titles and scores of the submissions."
   ]
  },
  {
   "cell_type": "code",
   "execution_count": 16,
   "metadata": {},
   "outputs": [],
   "source": [
    "def parse_hn_submissions(path):\n",
    "    with open(path, \"r\") as f:\n",
    "        records = []\n",
    "        for line in f.readlines():\n",
    "            body = json.loads(line)[\"body\"]\n",
    "            records.append({\"data\": body[\"title\"], \"score\": body[\"score\"]})\n",
    "        return pd.DataFrame(records)"
   ]
  },
  {
   "cell_type": "markdown",
   "metadata": {},
   "source": [
    "We now process all the data chunks and concatenate them into a single dataframe:"
   ]
  },
  {
   "cell_type": "code",
   "execution_count": 17,
   "metadata": {},
   "outputs": [
    {
     "name": "stdout",
     "output_type": "stream",
     "text": [
      "Took 2.8535571098327637 seconds to parse the hackernews submissions\n"
     ]
    },
    {
     "data": {
      "text/html": [
       "<div>\n",
       "<style scoped>\n",
       "    .dataframe tbody tr th:only-of-type {\n",
       "        vertical-align: middle;\n",
       "    }\n",
       "\n",
       "    .dataframe tbody tr th {\n",
       "        vertical-align: top;\n",
       "    }\n",
       "\n",
       "    .dataframe thead th {\n",
       "        text-align: right;\n",
       "    }\n",
       "</style>\n",
       "<table border=\"1\" class=\"dataframe\">\n",
       "  <thead>\n",
       "    <tr style=\"text-align: right;\">\n",
       "      <th></th>\n",
       "      <th>data</th>\n",
       "      <th>score</th>\n",
       "    </tr>\n",
       "  </thead>\n",
       "  <tbody>\n",
       "    <tr>\n",
       "      <td>0</td>\n",
       "      <td>The PeopleWeb | Mark Pincus Blog (March 2005)</td>\n",
       "      <td>3</td>\n",
       "    </tr>\n",
       "    <tr>\n",
       "      <td>1</td>\n",
       "      <td>Computer science and programming are two separ...</td>\n",
       "      <td>1</td>\n",
       "    </tr>\n",
       "    <tr>\n",
       "      <td>2</td>\n",
       "      <td>Don't Go It Alone: Create an Advisory Board</td>\n",
       "      <td>1</td>\n",
       "    </tr>\n",
       "    <tr>\n",
       "      <td>3</td>\n",
       "      <td>Wikileaks Secret Dreams</td>\n",
       "      <td>1</td>\n",
       "    </tr>\n",
       "    <tr>\n",
       "      <td>4</td>\n",
       "      <td>MakeMyTrip.com: Is eCommerce in India Finall...</td>\n",
       "      <td>1</td>\n",
       "    </tr>\n",
       "  </tbody>\n",
       "</table>\n",
       "</div>"
      ],
      "text/plain": [
       "                                                data  score\n",
       "0      The PeopleWeb | Mark Pincus Blog (March 2005)      3\n",
       "1  Computer science and programming are two separ...      1\n",
       "2        Don't Go It Alone: Create an Advisory Board      1\n",
       "3                            Wikileaks Secret Dreams      1\n",
       "4    MakeMyTrip.com: Is eCommerce in India Finall...      1"
      ]
     },
     "execution_count": 17,
     "metadata": {},
     "output_type": "execute_result"
    }
   ],
   "source": [
    "start_time = time.time()\n",
    "\n",
    "files = [\"submission-\" + str(i) + \".json\" for i in range(1, 5)]\n",
    "records = [parse_hn_submissions(file) for file in files]\n",
    "df = pd.concat(records)\n",
    "\n",
    "end_time = time.time()\n",
    "duration = end_time - start_time\n",
    "print(\"Took {} seconds to parse the hackernews submissions\".format(duration))\n",
    "\n",
    "df.head()"
   ]
  },
  {
   "cell_type": "markdown",
   "metadata": {},
   "source": [
    "**EXERCISE:** Modify the code above to parallelize the parsing of the four files with Ray!\n",
    "\n",
    "**Note**: In Binder this will not lead to a speedup (in fact, it will be slower) due to constrained resources (each Binder instance is shared with many other people). On an uncontended EC2 instance, we get **4.25s** for the serial code and **1.34s** for the parallel version."
   ]
  },
  {
   "cell_type": "markdown",
   "metadata": {},
   "source": [
    "We use the following lines to determine a cutoff of what we consider a \"good\" article. The median score for articles is 1, so we want to label articles with score higher than that as class \"1\" and everything else as \"0\"."
   ]
  },
  {
   "cell_type": "code",
   "execution_count": 18,
   "metadata": {},
   "outputs": [
    {
     "data": {
      "text/plain": [
       "1.0"
      ]
     },
     "execution_count": 18,
     "metadata": {},
     "output_type": "execute_result"
    }
   ],
   "source": [
    "df[\"score\"].median()"
   ]
  },
  {
   "cell_type": "code",
   "execution_count": 19,
   "metadata": {},
   "outputs": [],
   "source": [
    "df[\"target\"] = df[\"score\"] > 1.0"
   ]
  },
  {
   "cell_type": "markdown",
   "metadata": {},
   "source": [
    "We are now done preparing the data and can start training a model."
   ]
  },
  {
   "cell_type": "markdown",
   "metadata": {},
   "source": [
    "### Training a model\n",
    "\n",
    "<html><img src=\"newsreader_2.png\"/></html>\n",
    "\n",
    "First we split the data into a train and test set."
   ]
  },
  {
   "cell_type": "code",
   "execution_count": 20,
   "metadata": {},
   "outputs": [],
   "source": [
    "from sklearn.model_selection import train_test_split\n",
    "train, test = train_test_split(df, test_size=0.2)"
   ]
  },
  {
   "cell_type": "markdown",
   "metadata": {},
   "source": [
    "The following defines a pipeline that first converts the title of the submission to a bag of words and then applies an SVM for the actual classification. Note that we are fitting a very simple SVM here due to the computational restrictions of Binder. With more resources, a state-of-the-art model like [BERT](https://ai.googleblog.com/2018/11/open-sourcing-bert-state-of-art-pre.html) would be a better choice, in this case the code would be structured similarly."
   ]
  },
  {
   "cell_type": "code",
   "execution_count": 21,
   "metadata": {},
   "outputs": [
    {
     "name": "stderr",
     "output_type": "stream",
     "text": [
      "/Users/yunzhi/anaconda3/lib/python3.7/site-packages/sklearn/linear_model/stochastic_gradient.py:561: ConvergenceWarning: Maximum number of iteration reached before convergence. Consider increasing max_iter to improve the fit.\n",
      "  ConvergenceWarning)\n"
     ]
    },
    {
     "name": "stdout",
     "output_type": "stream",
     "text": [
      "Accuracy on the training set is 0.586221875\n"
     ]
    }
   ],
   "source": [
    "from sklearn.pipeline import Pipeline\n",
    "from sklearn.feature_extraction.text import CountVectorizer\n",
    "from sklearn.linear_model import SGDClassifier\n",
    "\n",
    "pipeline = Pipeline([\n",
    "    (\"vect\", CountVectorizer()),\n",
    "    (\"clf\", SGDClassifier(loss=\"hinge\", penalty=\"l2\",\n",
    "                          alpha=0.001,\n",
    "                          max_iter=5, tol=1e-3,\n",
    "                          warm_start=True))])\n",
    "result = pipeline.fit(train.data, train.target)\n",
    "\n",
    "predicted = result.predict(train.data)\n",
    "print(\"Accuracy on the training set is {}\".format(np.mean(predicted == train.target)))"
   ]
  },
  {
   "cell_type": "code",
   "execution_count": 22,
   "metadata": {},
   "outputs": [
    {
     "name": "stdout",
     "output_type": "stream",
     "text": [
      "Accuracy on the test set is 0.578675\n"
     ]
    }
   ],
   "source": [
    "predicted = pipeline.predict(test.data)\n",
    "print(\"Accuracy on the test set is {}\".format(np.mean(predicted == test.target)))"
   ]
  },
  {
   "cell_type": "markdown",
   "metadata": {},
   "source": [
    "We can also classify new titles as follows:"
   ]
  },
  {
   "cell_type": "code",
   "execution_count": 23,
   "metadata": {},
   "outputs": [
    {
     "data": {
      "text/plain": [
       "array([ True, False])"
      ]
     },
     "execution_count": 23,
     "metadata": {},
     "output_type": "execute_result"
    }
   ],
   "source": [
    "pipeline.predict([\"Iconic consoles of the IBM System/360 mainframes, 55 years old today\",\n",
    "                  \"Are Banned Drugs in Your Meat?\"])"
   ]
  },
  {
   "cell_type": "markdown",
   "metadata": {},
   "source": [
    "### Hyperparameter tuning\n",
    "<html><img src=\"newsreader_3.png\"/></html>"
   ]
  },
  {
   "cell_type": "markdown",
   "metadata": {},
   "source": [
    "Now let's try to improve these results by doing some hyperparameter tuning. Hyperparameter tuning is the process of finding the best parameters for the learning algorithm. These parameters are typically few numbers like learning rate schedule (i.e. how large steps to take in each iteration), regularization parameters or size of the model. By tuning these knobs, we can typically make the model perform better. Tune supports a number of different algorithms to perform hyperparameter tuning. The simplest is a grid search where we just exhaustively try out different values for the parameters. More sophisticated algorithms include hyperband and population based training. If you want to learn more about these, check out the [tune documentation](https://ray.readthedocs.io/en/latest/tune.html). "
   ]
  },
  {
   "cell_type": "code",
   "execution_count": 24,
   "metadata": {},
   "outputs": [],
   "source": [
    "import os\n",
    "import pickle\n",
    "from ray import tune"
   ]
  },
  {
   "cell_type": "markdown",
   "metadata": {},
   "source": [
    "First we need to put the training data into the object store (to make sure it will be re-used between training runs), and define the objective function. The objective function `train_func` takes two arguments: The `config` argument which contains the hyperparameters for that hyperparameter run. The `reporter` object can be used to report the performance of these hyperparameters back to tune so it can select the next trial based on the performance of the past ones.\n",
    "\n",
    "**EXERCISE**: Inside the `train_func`, instantiate the training pipeline as above and replace the concrete value of $\\alpha$ with the value `config[\"alpha\"]` that is passed in by Tune.\n",
    "\n",
    "The following function instantiates a model corresponding to the hyperparameters in `config`, runs 5 iterations of training and saves the model parameters to a checkpoint file."
   ]
  },
  {
   "cell_type": "code",
   "execution_count": 25,
   "metadata": {},
   "outputs": [],
   "source": [
    "train_id = ray.put(train)\n",
    "test_id = ray.put(test)\n",
    "\n",
    "def train_func(config, reporter):\n",
    "    pipeline = Pipeline([\n",
    "    (\"vect\", CountVectorizer()),\n",
    "    (\"clf\", SGDClassifier(loss=\"hinge\", penalty=\"l2\",\n",
    "                          alpha=config[\"alpha\"],\n",
    "                          max_iter=5, tol=1e-3,\n",
    "                          warm_start=True))]) # TODO: Put in the training pipeline here\n",
    "    train = ray.get(train_id)\n",
    "    test = ray.get(test_id)\n",
    "    for i in range(5):\n",
    "        # Perform one epoch of SGD\n",
    "        X = pipeline.named_steps[\"vect\"].fit_transform(train.data)\n",
    "        pipeline.named_steps[\"clf\"].partial_fit(X, train.target, classes=[0, 1])\n",
    "        with open(\"model.pkl\", \"wb\") as f:\n",
    "            pickle.dump(pipeline, f)\n",
    "        reporter(mean_accuracy=np.mean(pipeline.predict(test.data) == test.target))  # report metrics"
   ]
  },
  {
   "cell_type": "markdown",
   "metadata": {},
   "source": [
    "We can then get the best setting for the regularization parameter $\\alpha$ as follows. **You should expect the training to take about 4-5 minutes**."
   ]
  },
  {
   "cell_type": "code",
   "execution_count": 26,
   "metadata": {
    "scrolled": false
   },
   "outputs": [
    {
     "name": "stderr",
     "output_type": "stream",
     "text": [
      "2020-01-02 12:23:13,171\tWARNING logger.py:413 -- Could not instantiate tf2_compat_logger: No module named 'tensorflow'.\n"
     ]
    },
    {
     "data": {
      "text/html": [
       "== Status ==<br>Memory usage on this node: 11.4/16.0 GiB<br>Using FIFO scheduling algorithm.<br>Resources requested: 1/4 CPUs, 0/0 GPUs, 0.0/3.32 GiB heap, 0.0/1.12 GiB objects<br>Result logdir: /Users/yunzhi/ray_results/news_recommendation<br>Number of trials: 4 (1 RUNNING, 3 PENDING)<br><table>\n",
       "<thead>\n",
       "<tr><th>Trial name         </th><th>status  </th><th>loc  </th><th>alpha  </th></tr>\n",
       "</thead>\n",
       "<tbody>\n",
       "<tr><td>train_func_b36a39c4</td><td>RUNNING </td><td>     </td><td>       </td></tr>\n",
       "<tr><td>train_func_b36dfc58</td><td>PENDING </td><td>     </td><td>       </td></tr>\n",
       "<tr><td>train_func_b36e24d0</td><td>PENDING </td><td>     </td><td>       </td></tr>\n",
       "<tr><td>train_func_b36e4bfe</td><td>PENDING </td><td>     </td><td>       </td></tr>\n",
       "</tbody>\n",
       "</table><br><br>"
      ],
      "text/plain": [
       "<IPython.core.display.HTML object>"
      ]
     },
     "metadata": {},
     "output_type": "display_data"
    },
    {
     "name": "stderr",
     "output_type": "stream",
     "text": [
      "2020-01-02 12:23:13,187\tWARNING logger.py:413 -- Could not instantiate tf2_compat_logger: No module named 'tensorflow'.\n",
      "2020-01-02 12:23:13,198\tWARNING logger.py:413 -- Could not instantiate tf2_compat_logger: No module named 'tensorflow'.\n",
      "2020-01-02 12:23:13,208\tWARNING logger.py:413 -- Could not instantiate tf2_compat_logger: No module named 'tensorflow'.\n"
     ]
    },
    {
     "name": "stdout",
     "output_type": "stream",
     "text": [
      "Result for train_func_b36e24d0:\n",
      "  date: 2020-01-02_12-23-18\n",
      "  done: false\n",
      "  experiment_id: 0c18f4cfd3a54af0902bb2ade835f338\n",
      "  experiment_tag: 2_alpha=1e-05\n",
      "  hostname: Yunzhis-MBP.hsd1.ca.comcast.net\n",
      "  iterations_since_restore: 1\n",
      "  mean_accuracy: 0.5702625\n",
      "  node_ip: 10.1.10.91\n",
      "  pid: 4527\n",
      "  time_since_restore: 4.267539978027344\n",
      "  time_this_iter_s: 4.267539978027344\n",
      "  time_total_s: 4.267539978027344\n",
      "  timestamp: 1577996598\n",
      "  timesteps_since_restore: 0\n",
      "  training_iteration: 1\n",
      "  trial_id: b36e24d0\n",
      "  \n"
     ]
    },
    {
     "data": {
      "text/html": [
       "== Status ==<br>Memory usage on this node: 11.4/16.0 GiB<br>Using FIFO scheduling algorithm.<br>Resources requested: 4/4 CPUs, 0/0 GPUs, 0.0/3.32 GiB heap, 0.0/1.12 GiB objects<br>Result logdir: /Users/yunzhi/ray_results/news_recommendation<br>Number of trials: 4 (4 RUNNING)<br><table>\n",
       "<thead>\n",
       "<tr><th>Trial name         </th><th>status  </th><th>loc            </th><th style=\"text-align: right;\">  alpha</th><th style=\"text-align: right;\">  iter</th><th style=\"text-align: right;\">  total time (s)</th><th style=\"text-align: right;\">     acc</th></tr>\n",
       "</thead>\n",
       "<tbody>\n",
       "<tr><td>train_func_b36a39c4</td><td>RUNNING </td><td>               </td><td style=\"text-align: right;\">       </td><td style=\"text-align: right;\">      </td><td style=\"text-align: right;\">                </td><td style=\"text-align: right;\">        </td></tr>\n",
       "<tr><td>train_func_b36dfc58</td><td>RUNNING </td><td>               </td><td style=\"text-align: right;\">       </td><td style=\"text-align: right;\">      </td><td style=\"text-align: right;\">                </td><td style=\"text-align: right;\">        </td></tr>\n",
       "<tr><td>train_func_b36e24d0</td><td>RUNNING </td><td>10.1.10.91:4527</td><td style=\"text-align: right;\">  1e-05</td><td style=\"text-align: right;\">     1</td><td style=\"text-align: right;\">         4.26754</td><td style=\"text-align: right;\">0.570263</td></tr>\n",
       "<tr><td>train_func_b36e4bfe</td><td>RUNNING </td><td>               </td><td style=\"text-align: right;\">       </td><td style=\"text-align: right;\">      </td><td style=\"text-align: right;\">                </td><td style=\"text-align: right;\">        </td></tr>\n",
       "</tbody>\n",
       "</table><br><br>"
      ],
      "text/plain": [
       "<IPython.core.display.HTML object>"
      ]
     },
     "metadata": {},
     "output_type": "display_data"
    },
    {
     "name": "stdout",
     "output_type": "stream",
     "text": [
      "Result for train_func_b36e4bfe:\n",
      "  date: 2020-01-02_12-23-18\n",
      "  done: false\n",
      "  experiment_id: 8852a9f9a054441ea0fb3d6963922800\n",
      "  experiment_tag: 3_alpha=1e-06\n",
      "  hostname: Yunzhis-MBP.hsd1.ca.comcast.net\n",
      "  iterations_since_restore: 1\n",
      "  mean_accuracy: 0.5621125\n",
      "  node_ip: 10.1.10.91\n",
      "  pid: 4525\n",
      "  time_since_restore: 4.303200960159302\n",
      "  time_this_iter_s: 4.303200960159302\n",
      "  time_total_s: 4.303200960159302\n",
      "  timestamp: 1577996598\n",
      "  timesteps_since_restore: 0\n",
      "  training_iteration: 1\n",
      "  trial_id: b36e4bfe\n",
      "  \n",
      "Result for train_func_b36dfc58:\n",
      "  date: 2020-01-02_12-23-18\n",
      "  done: false\n",
      "  experiment_id: 12c88bd52e6047679f7a52af9aa71d02\n",
      "  experiment_tag: 1_alpha=0.0001\n",
      "  hostname: Yunzhis-MBP.hsd1.ca.comcast.net\n",
      "  iterations_since_restore: 1\n",
      "  mean_accuracy: 0.59805\n",
      "  node_ip: 10.1.10.91\n",
      "  pid: 4528\n",
      "  time_since_restore: 4.316836833953857\n",
      "  time_this_iter_s: 4.316836833953857\n",
      "  time_total_s: 4.316836833953857\n",
      "  timestamp: 1577996598\n",
      "  timesteps_since_restore: 0\n",
      "  training_iteration: 1\n",
      "  trial_id: b36dfc58\n",
      "  \n",
      "Result for train_func_b36a39c4:\n",
      "  date: 2020-01-02_12-23-18\n",
      "  done: false\n",
      "  experiment_id: f6a7dfdfaba84177bc8dbe4e28c227c4\n",
      "  experiment_tag: 0_alpha=0.001\n",
      "  hostname: Yunzhis-MBP.hsd1.ca.comcast.net\n",
      "  iterations_since_restore: 1\n",
      "  mean_accuracy: 0.5814125\n",
      "  node_ip: 10.1.10.91\n",
      "  pid: 4526\n",
      "  time_since_restore: 4.329303026199341\n",
      "  time_this_iter_s: 4.329303026199341\n",
      "  time_total_s: 4.329303026199341\n",
      "  timestamp: 1577996598\n",
      "  timesteps_since_restore: 0\n",
      "  training_iteration: 1\n",
      "  trial_id: b36a39c4\n",
      "  \n",
      "Result for train_func_b36e24d0:\n",
      "  date: 2020-01-02_12-23-26\n",
      "  done: false\n",
      "  experiment_id: 0c18f4cfd3a54af0902bb2ade835f338\n",
      "  experiment_tag: 2_alpha=1e-05\n",
      "  hostname: Yunzhis-MBP.hsd1.ca.comcast.net\n",
      "  iterations_since_restore: 3\n",
      "  mean_accuracy: 0.5919625\n",
      "  node_ip: 10.1.10.91\n",
      "  pid: 4527\n",
      "  time_since_restore: 12.236334085464478\n",
      "  time_this_iter_s: 3.945594072341919\n",
      "  time_total_s: 12.236334085464478\n",
      "  timestamp: 1577996606\n",
      "  timesteps_since_restore: 0\n",
      "  training_iteration: 3\n",
      "  trial_id: b36e24d0\n",
      "  \n"
     ]
    },
    {
     "data": {
      "text/html": [
       "== Status ==<br>Memory usage on this node: 11.2/16.0 GiB<br>Using FIFO scheduling algorithm.<br>Resources requested: 4/4 CPUs, 0/0 GPUs, 0.0/3.32 GiB heap, 0.0/1.12 GiB objects<br>Result logdir: /Users/yunzhi/ray_results/news_recommendation<br>Number of trials: 4 (4 RUNNING)<br><table>\n",
       "<thead>\n",
       "<tr><th>Trial name         </th><th>status  </th><th>loc            </th><th style=\"text-align: right;\">  alpha</th><th style=\"text-align: right;\">  iter</th><th style=\"text-align: right;\">  total time (s)</th><th style=\"text-align: right;\">     acc</th></tr>\n",
       "</thead>\n",
       "<tbody>\n",
       "<tr><td>train_func_b36a39c4</td><td>RUNNING </td><td>10.1.10.91:4526</td><td style=\"text-align: right;\"> 0.001 </td><td style=\"text-align: right;\">     2</td><td style=\"text-align: right;\">         8.39669</td><td style=\"text-align: right;\">0.58005 </td></tr>\n",
       "<tr><td>train_func_b36dfc58</td><td>RUNNING </td><td>10.1.10.91:4528</td><td style=\"text-align: right;\"> 0.0001</td><td style=\"text-align: right;\">     2</td><td style=\"text-align: right;\">         8.38358</td><td style=\"text-align: right;\">0.601413</td></tr>\n",
       "<tr><td>train_func_b36e24d0</td><td>RUNNING </td><td>10.1.10.91:4527</td><td style=\"text-align: right;\"> 1e-05 </td><td style=\"text-align: right;\">     3</td><td style=\"text-align: right;\">        12.2363 </td><td style=\"text-align: right;\">0.591962</td></tr>\n",
       "<tr><td>train_func_b36e4bfe</td><td>RUNNING </td><td>10.1.10.91:4525</td><td style=\"text-align: right;\"> 1e-06 </td><td style=\"text-align: right;\">     2</td><td style=\"text-align: right;\">         8.35894</td><td style=\"text-align: right;\">0.568412</td></tr>\n",
       "</tbody>\n",
       "</table><br><br>"
      ],
      "text/plain": [
       "<IPython.core.display.HTML object>"
      ]
     },
     "metadata": {},
     "output_type": "display_data"
    },
    {
     "name": "stdout",
     "output_type": "stream",
     "text": [
      "Result for train_func_b36e4bfe:\n",
      "  date: 2020-01-02_12-23-26\n",
      "  done: false\n",
      "  experiment_id: 8852a9f9a054441ea0fb3d6963922800\n",
      "  experiment_tag: 3_alpha=1e-06\n",
      "  hostname: Yunzhis-MBP.hsd1.ca.comcast.net\n",
      "  iterations_since_restore: 3\n",
      "  mean_accuracy: 0.5668\n",
      "  node_ip: 10.1.10.91\n",
      "  pid: 4525\n",
      "  time_since_restore: 12.327115058898926\n",
      "  time_this_iter_s: 3.9681711196899414\n",
      "  time_total_s: 12.327115058898926\n",
      "  timestamp: 1577996606\n",
      "  timesteps_since_restore: 0\n",
      "  training_iteration: 3\n",
      "  trial_id: b36e4bfe\n",
      "  \n",
      "Result for train_func_b36dfc58:\n",
      "  date: 2020-01-02_12-23-26\n",
      "  done: false\n",
      "  experiment_id: 12c88bd52e6047679f7a52af9aa71d02\n",
      "  experiment_tag: 1_alpha=0.0001\n",
      "  hostname: Yunzhis-MBP.hsd1.ca.comcast.net\n",
      "  iterations_since_restore: 3\n",
      "  mean_accuracy: 0.60135\n",
      "  node_ip: 10.1.10.91\n",
      "  pid: 4528\n",
      "  time_since_restore: 12.36200499534607\n",
      "  time_this_iter_s: 3.9784250259399414\n",
      "  time_total_s: 12.36200499534607\n",
      "  timestamp: 1577996606\n",
      "  timesteps_since_restore: 0\n",
      "  training_iteration: 3\n",
      "  trial_id: b36dfc58\n",
      "  \n",
      "Result for train_func_b36a39c4:\n",
      "  date: 2020-01-02_12-23-26\n",
      "  done: false\n",
      "  experiment_id: f6a7dfdfaba84177bc8dbe4e28c227c4\n",
      "  experiment_tag: 0_alpha=0.001\n",
      "  hostname: Yunzhis-MBP.hsd1.ca.comcast.net\n",
      "  iterations_since_restore: 3\n",
      "  mean_accuracy: 0.578625\n",
      "  node_ip: 10.1.10.91\n",
      "  pid: 4526\n",
      "  time_since_restore: 12.378322124481201\n",
      "  time_this_iter_s: 3.981630325317383\n",
      "  time_total_s: 12.378322124481201\n",
      "  timestamp: 1577996606\n",
      "  timesteps_since_restore: 0\n",
      "  training_iteration: 3\n",
      "  trial_id: b36a39c4\n",
      "  \n",
      "Result for train_func_b36e24d0:\n",
      "  date: 2020-01-02_12-23-34\n",
      "  done: false\n",
      "  experiment_id: 0c18f4cfd3a54af0902bb2ade835f338\n",
      "  experiment_tag: 2_alpha=1e-05\n",
      "  hostname: Yunzhis-MBP.hsd1.ca.comcast.net\n",
      "  iterations_since_restore: 5\n",
      "  mean_accuracy: 0.596325\n",
      "  node_ip: 10.1.10.91\n",
      "  pid: 4527\n",
      "  time_since_restore: 20.07131314277649\n",
      "  time_this_iter_s: 3.911412239074707\n",
      "  time_total_s: 20.07131314277649\n",
      "  timestamp: 1577996614\n",
      "  timesteps_since_restore: 0\n",
      "  training_iteration: 5\n",
      "  trial_id: b36e24d0\n",
      "  \n"
     ]
    },
    {
     "data": {
      "text/html": [
       "== Status ==<br>Memory usage on this node: 11.2/16.0 GiB<br>Using FIFO scheduling algorithm.<br>Resources requested: 4/4 CPUs, 0/0 GPUs, 0.0/3.32 GiB heap, 0.0/1.12 GiB objects<br>Result logdir: /Users/yunzhi/ray_results/news_recommendation<br>Number of trials: 4 (4 RUNNING)<br><table>\n",
       "<thead>\n",
       "<tr><th>Trial name         </th><th>status  </th><th>loc            </th><th style=\"text-align: right;\">  alpha</th><th style=\"text-align: right;\">  iter</th><th style=\"text-align: right;\">  total time (s)</th><th style=\"text-align: right;\">     acc</th></tr>\n",
       "</thead>\n",
       "<tbody>\n",
       "<tr><td>train_func_b36a39c4</td><td>RUNNING </td><td>10.1.10.91:4526</td><td style=\"text-align: right;\"> 0.001 </td><td style=\"text-align: right;\">     4</td><td style=\"text-align: right;\">         16.3448</td><td style=\"text-align: right;\">0.578825</td></tr>\n",
       "<tr><td>train_func_b36dfc58</td><td>RUNNING </td><td>10.1.10.91:4528</td><td style=\"text-align: right;\"> 0.0001</td><td style=\"text-align: right;\">     4</td><td style=\"text-align: right;\">         16.3186</td><td style=\"text-align: right;\">0.609237</td></tr>\n",
       "<tr><td>train_func_b36e24d0</td><td>RUNNING </td><td>10.1.10.91:4527</td><td style=\"text-align: right;\"> 1e-05 </td><td style=\"text-align: right;\">     5</td><td style=\"text-align: right;\">         20.0713</td><td style=\"text-align: right;\">0.596325</td></tr>\n",
       "<tr><td>train_func_b36e4bfe</td><td>RUNNING </td><td>10.1.10.91:4525</td><td style=\"text-align: right;\"> 1e-06 </td><td style=\"text-align: right;\">     4</td><td style=\"text-align: right;\">         16.267 </td><td style=\"text-align: right;\">0.5628  </td></tr>\n",
       "</tbody>\n",
       "</table><br><br>"
      ],
      "text/plain": [
       "<IPython.core.display.HTML object>"
      ]
     },
     "metadata": {},
     "output_type": "display_data"
    },
    {
     "name": "stdout",
     "output_type": "stream",
     "text": [
      "Result for train_func_b36e4bfe:\n",
      "  date: 2020-01-02_12-23-34\n",
      "  done: false\n",
      "  experiment_id: 8852a9f9a054441ea0fb3d6963922800\n",
      "  experiment_tag: 3_alpha=1e-06\n",
      "  hostname: Yunzhis-MBP.hsd1.ca.comcast.net\n",
      "  iterations_since_restore: 5\n",
      "  mean_accuracy: 0.568875\n",
      "  node_ip: 10.1.10.91\n",
      "  pid: 4525\n",
      "  time_since_restore: 20.2430899143219\n",
      "  time_this_iter_s: 3.976069927215576\n",
      "  time_total_s: 20.2430899143219\n",
      "  timestamp: 1577996614\n",
      "  timesteps_since_restore: 0\n",
      "  training_iteration: 5\n",
      "  trial_id: b36e4bfe\n",
      "  \n",
      "Result for train_func_b36dfc58:\n",
      "  date: 2020-01-02_12-23-34\n",
      "  done: false\n",
      "  experiment_id: 12c88bd52e6047679f7a52af9aa71d02\n",
      "  experiment_tag: 1_alpha=0.0001\n",
      "  hostname: Yunzhis-MBP.hsd1.ca.comcast.net\n",
      "  iterations_since_restore: 5\n",
      "  mean_accuracy: 0.6095125\n",
      "  node_ip: 10.1.10.91\n",
      "  pid: 4528\n",
      "  time_since_restore: 20.28740692138672\n",
      "  time_this_iter_s: 3.968809127807617\n",
      "  time_total_s: 20.28740692138672\n",
      "  timestamp: 1577996614\n",
      "  timesteps_since_restore: 0\n",
      "  training_iteration: 5\n",
      "  trial_id: b36dfc58\n",
      "  \n",
      "Result for train_func_b36a39c4:\n",
      "  date: 2020-01-02_12-23-34\n",
      "  done: false\n",
      "  experiment_id: f6a7dfdfaba84177bc8dbe4e28c227c4\n",
      "  experiment_tag: 0_alpha=0.001\n",
      "  hostname: Yunzhis-MBP.hsd1.ca.comcast.net\n",
      "  iterations_since_restore: 5\n",
      "  mean_accuracy: 0.5783875\n",
      "  node_ip: 10.1.10.91\n",
      "  pid: 4526\n",
      "  time_since_restore: 20.350215196609497\n",
      "  time_this_iter_s: 4.005417346954346\n",
      "  time_total_s: 20.350215196609497\n",
      "  timestamp: 1577996614\n",
      "  timesteps_since_restore: 0\n",
      "  training_iteration: 5\n",
      "  trial_id: b36a39c4\n",
      "  \n"
     ]
    },
    {
     "data": {
      "text/html": [
       "== Status ==<br>Memory usage on this node: 11.1/16.0 GiB<br>Using FIFO scheduling algorithm.<br>Resources requested: 0/4 CPUs, 0/0 GPUs, 0.0/3.32 GiB heap, 0.0/1.12 GiB objects<br>Result logdir: /Users/yunzhi/ray_results/news_recommendation<br>Number of trials: 4 (4 TERMINATED)<br><table>\n",
       "<thead>\n",
       "<tr><th>Trial name         </th><th>status    </th><th>loc  </th><th style=\"text-align: right;\">  alpha</th><th style=\"text-align: right;\">  iter</th><th style=\"text-align: right;\">  total time (s)</th><th style=\"text-align: right;\">     acc</th></tr>\n",
       "</thead>\n",
       "<tbody>\n",
       "<tr><td>train_func_b36a39c4</td><td>TERMINATED</td><td>     </td><td style=\"text-align: right;\"> 0.001 </td><td style=\"text-align: right;\">     5</td><td style=\"text-align: right;\">         20.3502</td><td style=\"text-align: right;\">0.578388</td></tr>\n",
       "<tr><td>train_func_b36dfc58</td><td>TERMINATED</td><td>     </td><td style=\"text-align: right;\"> 0.0001</td><td style=\"text-align: right;\">     5</td><td style=\"text-align: right;\">         20.2874</td><td style=\"text-align: right;\">0.609513</td></tr>\n",
       "<tr><td>train_func_b36e24d0</td><td>TERMINATED</td><td>     </td><td style=\"text-align: right;\"> 1e-05 </td><td style=\"text-align: right;\">     5</td><td style=\"text-align: right;\">         20.0713</td><td style=\"text-align: right;\">0.596325</td></tr>\n",
       "<tr><td>train_func_b36e4bfe</td><td>TERMINATED</td><td>     </td><td style=\"text-align: right;\"> 1e-06 </td><td style=\"text-align: right;\">     5</td><td style=\"text-align: right;\">         20.2431</td><td style=\"text-align: right;\">0.568875</td></tr>\n",
       "</tbody>\n",
       "</table><br><br>"
      ],
      "text/plain": [
       "<IPython.core.display.HTML object>"
      ]
     },
     "metadata": {},
     "output_type": "display_data"
    },
    {
     "name": "stderr",
     "output_type": "stream",
     "text": [
      "2020-01-02 12:23:34,849\tINFO tune.py:334 -- Returning an analysis object by default. You can call `analysis.trials` to retrieve a list of trials. This message will be removed in future versions of Tune.\n"
     ]
    }
   ],
   "source": [
    "all_trials = tune.run(\n",
    "    train_func,\n",
    "    name=\"news_recommendation\",\n",
    "    # With the \"stop\" parameter, you could also specify a stopping criterion.\n",
    "    config={\"alpha\": tune.grid_search([1e-3, 1e-4, 1e-5, 1e-6])}\n",
    ")"
   ]
  },
  {
   "cell_type": "markdown",
   "metadata": {},
   "source": [
    "The best model can now be loaded and evaluated like so:"
   ]
  },
  {
   "cell_type": "code",
   "execution_count": null,
   "metadata": {},
   "outputs": [],
   "source": [
    "best_result_path = os.path.join(all_trials.get_best_logdir(\"mean_accuracy\"), \"model.pkl\")\n",
    "with open(best_result_path, \"rb\") as f:\n",
    "    pipeline = pickle.load(f)\n",
    "print(\"Best result was {}\".format(np.mean(pipeline.predict(test.data) == test.target)))\n",
    "print(\"Best result path is {}\".format(best_result_path))"
   ]
  }
 ],
 "metadata": {
  "kernelspec": {
   "display_name": "Python 3",
   "language": "python",
   "name": "python3"
  },
  "language_info": {
   "codemirror_mode": {
    "name": "ipython",
    "version": 3
   },
   "file_extension": ".py",
   "mimetype": "text/x-python",
   "name": "python",
   "nbconvert_exporter": "python",
   "pygments_lexer": "ipython3",
   "version": "3.7.4"
  }
 },
 "nbformat": 4,
 "nbformat_minor": 2
}
