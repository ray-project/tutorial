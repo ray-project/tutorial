{
 "cells": [
  {
   "cell_type": "markdown",
   "metadata": {},
   "source": [
    "# News recommendation serving\n",
    "We will now implement a simple backend for our news serving example."
   ]
  },
  {
   "cell_type": "code",
   "execution_count": 2,
   "metadata": {},
   "outputs": [],
   "source": [
    "from __future__ import absolute_import\n",
    "from __future__ import division\n",
    "from __future__ import print_function\n",
    "\n",
    "import atoma\n",
    "from flask import Flask, jsonify, request\n",
    "from flask_cors import CORS\n",
    "import requests\n",
    "import ray"
   ]
  },
  {
   "cell_type": "code",
   "execution_count": 3,
   "metadata": {},
   "outputs": [
    {
     "name": "stderr",
     "output_type": "stream",
     "text": [
      "2019-04-09 18:30:06,399\tINFO node.py:439 -- Process STDOUT and STDERR is being redirected to /tmp/ray/session_2019-04-09_18-30-06_92151/logs.\n",
      "2019-04-09 18:30:06,513\tINFO services.py:364 -- Waiting for redis server at 127.0.0.1:62990 to respond...\n",
      "2019-04-09 18:30:06,635\tINFO services.py:364 -- Waiting for redis server at 127.0.0.1:26775 to respond...\n",
      "2019-04-09 18:30:06,641\tINFO services.py:761 -- Starting Redis shard with 1.72 GB max memory.\n",
      "2019-04-09 18:30:06,670\tINFO services.py:1449 -- Starting the Plasma object store with 2.58 GB memory using /tmp.\n"
     ]
    },
    {
     "data": {
      "text/plain": [
       "{'node_ip_address': None,\n",
       " 'redis_address': '128.32.44.164:62990',\n",
       " 'object_store_address': '/tmp/ray/session_2019-04-09_18-30-06_92151/sockets/plasma_store',\n",
       " 'webui_url': None,\n",
       " 'raylet_socket_name': '/tmp/ray/session_2019-04-09_18-30-06_92151/sockets/raylet'}"
      ]
     },
     "execution_count": 3,
     "metadata": {},
     "output_type": "execute_result"
    }
   ],
   "source": [
    "ray.init(num_cpus=2)"
   ]
  },
  {
   "cell_type": "code",
   "execution_count": 4,
   "metadata": {},
   "outputs": [],
   "source": [
    "@ray.remote\n",
    "class NewsServer(object):\n",
    "\n",
    "    def __init__(self):\n",
    "        pass\n",
    "\n",
    "    def retrieve_feed(self, url):\n",
    "        response = requests.get(url)\n",
    "        feed = atoma.parse_rss_bytes(response.content)\n",
    "        items = []\n",
    "        for item in feed.items:\n",
    "            items.append({\"title\": item.title,\n",
    "                          \"link\": item.link,\n",
    "                          \"description\": item.description,\n",
    "                          \"description_text\": item.description,\n",
    "                          \"pubDate\": str(item.pub_date)})\n",
    "\n",
    "        return {\"channel\": {\"title\": feed.title,\n",
    "                            \"link\": feed.link,\n",
    "                            \"url\": feed.link},\n",
    "                \"items\": items}\n",
    "\n",
    "    def like_item(self, url, is_faved):\n",
    "        if is_faved:\n",
    "            print(\"url {} has been favorited\".format(url))\n",
    "        else:\n",
    "            print(\"url {} has been defavorited\".format(url))"
   ]
  },
  {
   "cell_type": "code",
   "execution_count": null,
   "metadata": {},
   "outputs": [
    {
     "name": "stderr",
     "output_type": "stream",
     "text": [
      " * Running on http://127.0.0.1:5000/ (Press CTRL+C to quit)\n"
     ]
    }
   ],
   "source": [
    "app = Flask(\"newsreader\")\n",
    "CORS(app)\n",
    "\n",
    "@app.route(\"/api\", methods=[\"POST\"])\n",
    "def dispatcher():\n",
    "    req = request.get_json()\n",
    "    method_name = req[\"method_name\"]\n",
    "    method_args = req[\"method_args\"]\n",
    "    if hasattr(dispatcher.server, method_name):\n",
    "        method = getattr(dispatcher.server, method_name)\n",
    "        # Doing a blocking ray.get right after submitting the task\n",
    "        # might be bad for performance if the task is expensive.\n",
    "        result = ray.get(method.remote(*method_args))\n",
    "        return jsonify(result)\n",
    "    else:\n",
    "        return jsonify(\n",
    "            {\"error\": \"method_name '\" + method_name + \"' not found\"})\n",
    "\n",
    "dispatcher.server = NewsServer.remote()\n",
    "app.run()"
   ]
  },
  {
   "cell_type": "markdown",
   "metadata": {},
   "source": []
  }
 ],
 "metadata": {
  "kernelspec": {
   "display_name": "Python 3",
   "language": "python",
   "name": "python3"
  },
  "language_info": {
   "codemirror_mode": {
    "name": "ipython",
    "version": 3
   },
   "file_extension": ".py",
   "mimetype": "text/x-python",
   "name": "python",
   "nbconvert_exporter": "python",
   "pygments_lexer": "ipython3",
   "version": "3.6.0"
  }
 },
 "nbformat": 4,
 "nbformat_minor": 2
}
