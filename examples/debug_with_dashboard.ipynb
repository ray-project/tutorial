{
 "cells": [
  {
   "cell_type": "code",
   "execution_count": 1,
   "metadata": {},
   "outputs": [
    {
     "name": "stderr",
     "output_type": "stream",
     "text": [
      "2020-01-02 16:00:42,070\tINFO resource_spec.py:216 -- Starting Ray with 3.03 GiB memory available for workers and up to 1.53 GiB for objects. You can adjust these settings with ray.init(memory=<bytes>, object_store_memory=<bytes>).\n"
     ]
    },
    {
     "name": "stdout",
     "output_type": "stream",
     "text": [
      "env: RAY_DASHBOARD_DEBUG=True\n"
     ]
    },
    {
     "name": "stderr",
     "output_type": "stream",
     "text": [
      "2020-01-02 16:00:42,444\tINFO services.py:1096 -- View the Ray dashboard at \u001b[1m\u001b[32mlocalhost:8267\u001b[39m\u001b[22m.\n"
     ]
    },
    {
     "data": {
      "text/plain": [
       "{'node_ip_address': '10.1.10.91',\n",
       " 'redis_address': '10.1.10.91:30378',\n",
       " 'object_store_address': '/tmp/ray/session_2020-01-02_16-00-42_062493_7423/sockets/plasma_store',\n",
       " 'raylet_socket_name': '/tmp/ray/session_2020-01-02_16-00-42_062493_7423/sockets/raylet',\n",
       " 'webui_url': 'localhost:8267',\n",
       " 'session_dir': '/tmp/ray/session_2020-01-02_16-00-42_062493_7423'}"
      ]
     },
     "execution_count": 1,
     "metadata": {},
     "output_type": "execute_result"
    }
   ],
   "source": [
    "import ray\n",
    "import os\n",
    "import time\n",
    "import numpy as np\n",
    "\n",
    "%env RAY_DASHBOARD_DEBUG = True\n",
    "\n",
    "ray.init()"
   ]
  },
  {
   "cell_type": "markdown",
   "metadata": {},
   "source": [
    "### Debug blocked actor creation tasks"
   ]
  },
  {
   "cell_type": "code",
   "execution_count": 2,
   "metadata": {},
   "outputs": [
    {
     "name": "stderr",
     "output_type": "stream",
     "text": [
      "2020-01-02 16:01:02,482\tWARNING worker.py:1056 -- The actor or task with ID ffffffffffffffff2512146c0100 is infeasible and cannot currently be scheduled. It requires {Custom: 1.000000}, {CPU: 1.000000} for execution and {Custom: 1.000000}, {CPU: 1.000000} for placement, however there are no nodes in the cluster that can provide the requested resources. To resolve this issue, consider reducing the resource requests of this task or add nodes that can fit the task.\n"
     ]
    },
    {
     "name": "stdout",
     "output_type": "stream",
     "text": [
      "Session hangs because actor A cannot be created. \n"
     ]
    }
   ],
   "source": [
    "@ray.remote(resources={\"Custom\": 1})\n",
    "class A(object):\n",
    "    def __init__(self):\n",
    "        pass\n",
    "    \n",
    "    def f(self):\n",
    "        return 0\n",
    "        \n",
    "@ray.remote\n",
    "class B(object):\n",
    "    def __init__(self):\n",
    "        self.a = A.remote()\n",
    "        \n",
    "    def f(self):\n",
    "        return ray.get(self.a.f.remote())\n",
    "\n",
    "b = B.remote()\n",
    "\n",
    "try:\n",
    "    ray.get(b.f.remote(), timeout=2)\n",
    "except ray.exceptions.RayTimeoutError:\n",
    "    print(\"Session hangs because actor A cannot be created. \")"
   ]
  },
  {
   "cell_type": "markdown",
   "metadata": {},
   "source": [
    "### Inspect node memory usage"
   ]
  },
  {
   "cell_type": "code",
   "execution_count": 3,
   "metadata": {},
   "outputs": [],
   "source": [
    "@ray.remote\n",
    "class C(object):\n",
    "    def __init__(self):\n",
    "        pass\n",
    "    \n",
    "    def f(self):\n",
    "        return ray.put(np.random.random((100, 100)))\n",
    "    \n",
    "@ray.remote\n",
    "class D(object):\n",
    "    def __init__(self):\n",
    "        self.c = C.remote()\n",
    "        \n",
    "    def f(self):\n",
    "        for _ in range(20):\n",
    "            time.sleep(0.5)\n",
    "            object_id = ray.get(self.c.f.remote())\n",
    "            assert isinstance(ray.get(object_id), np.ndarray)            \n",
    "        \n",
    "d = D.remote()\n",
    "_ = ray.get(d.f.remote())"
   ]
  },
  {
   "cell_type": "markdown",
   "metadata": {},
   "source": [
    "### Inspect worker memory usage"
   ]
  },
  {
   "cell_type": "code",
   "execution_count": 4,
   "metadata": {},
   "outputs": [],
   "source": [
    "@ray.remote\n",
    "class E(object):\n",
    "    def __init__(self):\n",
    "        pass\n",
    "    \n",
    "    def f(self):\n",
    "        return \"hello world\"\n",
    "    \n",
    "@ray.remote\n",
    "class F(object):\n",
    "    def __init__(self):\n",
    "        self.e = E.remote()\n",
    "        self.object_ids = []\n",
    "        \n",
    "    def f(self):\n",
    "        for _ in range(20):\n",
    "            time.sleep(0.5)\n",
    "            self.object_ids.append(self.e.f.remote())\n",
    "        \n",
    "f = F.remote()\n",
    "_ = ray.get(f.f.remote())"
   ]
  },
  {
   "cell_type": "code",
   "execution_count": null,
   "metadata": {},
   "outputs": [],
   "source": []
  }
 ],
 "metadata": {
  "kernelspec": {
   "display_name": "Python 3",
   "language": "python",
   "name": "python3"
  },
  "language_info": {
   "codemirror_mode": {
    "name": "ipython",
    "version": 3
   },
   "file_extension": ".py",
   "mimetype": "text/x-python",
   "name": "python",
   "nbconvert_exporter": "python",
   "pygments_lexer": "ipython3",
   "version": "3.7.4"
  }
 },
 "nbformat": 4,
 "nbformat_minor": 2
}
