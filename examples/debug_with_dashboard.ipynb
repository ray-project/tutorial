{
 "cells": [
  {
   "cell_type": "code",
   "execution_count": 1,
   "metadata": {},
   "outputs": [
    {
     "name": "stderr",
     "output_type": "stream",
     "text": [
      "2020-01-24 13:34:27,582\tINFO resource_spec.py:212 -- Starting Ray with 3.22 GiB memory available for workers and up to 1.62 GiB for objects. You can adjust these settings with ray.init(memory=<bytes>, object_store_memory=<bytes>).\n",
      "2020-01-24 13:34:27,890\tINFO services.py:1093 -- View the Ray dashboard at \u001b[1m\u001b[32mlocalhost:8267\u001b[39m\u001b[22m\n"
     ]
    }
   ],
   "source": [
    "import ray\n",
    "import os\n",
    "import time\n",
    "import numpy as np\n",
    "import requests\n",
    "\n",
    "addresses = ray.init()"
   ]
  },
  {
   "cell_type": "markdown",
   "metadata": {},
   "source": [
    "### Debug blocked actor creation tasks\n",
    "\n",
    "If creating an actor costs resources (e.g. CPU, GPU, oterh custom resources) more than available, the actor creation task becomes infeasible. This will be shown in red in the dashboard. "
   ]
  },
  {
   "cell_type": "code",
   "execution_count": 3,
   "metadata": {},
   "outputs": [
    {
     "name": "stderr",
     "output_type": "stream",
     "text": [
      "2020-01-24 13:37:35,101\tWARNING worker.py:1063 -- The actor or task with ID ffffffffffffffff1cc4b74c0100 is infeasible and cannot currently be scheduled. It requires {Custom: 1.000000} for execution and {Custom: 1.000000} for placement, however there are no nodes in the cluster that can provide the requested resources. To resolve this issue, consider reducing the resource requests of this task or add nodes that can fit the task.\n"
     ]
    },
    {
     "name": "stdout",
     "output_type": "stream",
     "text": [
      "Session hangs because actor A cannot be created. \n"
     ]
    }
   ],
   "source": [
    "@ray.remote(resources={\"Custom\": 1}, num_cpus=0)\n",
    "class A(object):\n",
    "    def __init__(self):\n",
    "        pass\n",
    "    \n",
    "    def f(self):\n",
    "        return 0\n",
    "        \n",
    "@ray.remote\n",
    "class B(object):\n",
    "    def __init__(self, x, y):\n",
    "        self.a = A.remote()\n",
    "        \n",
    "    def f(self):\n",
    "        return ray.get(self.a.f.remote())\n",
    "\n",
    "b = B.remote(3, y=5)\n",
    "\n",
    "try:\n",
    "    ray.get(b.f.remote(), timeout=2)\n",
    "except ray.exceptions.RayTimeoutError:\n",
    "    print(\"Session hangs because actor A cannot be created. \")"
   ]
  },
  {
   "cell_type": "markdown",
   "metadata": {},
   "source": [
    "### Local memory usage\n",
    "\n",
    "- Local memory info\n",
    "    - Number of object ids in scope\n",
    "    - Number of local objects\n",
    "    - Used Object Memory\n",
    "    \n",
    "In the example below, all objects (strings) are stored in local object memory. Used local object memory increases with more calls on the remote function `g`. "
   ]
  },
  {
   "cell_type": "code",
   "execution_count": 6,
   "metadata": {},
   "outputs": [],
   "source": [
    "@ray.remote\n",
    "def g():\n",
    "    return \"hello world!\"\n",
    "\n",
    "@ray.remote\n",
    "class A(object):\n",
    "    def f(self):\n",
    "        object_ids = []\n",
    "        for idx in range(50):\n",
    "            ray.show_in_webui(\"Loop index = {}...\".format(idx))\n",
    "#             self.object_ids.append(f.remote())\n",
    "            object_ids.append(g.remote())\n",
    "            time.sleep(0.5)\n",
    "\n",
    "a = A.remote()\n",
    "_ = a.f.remote()"
   ]
  },
  {
   "cell_type": "markdown",
   "metadata": {},
   "source": [
    "### Inspect node memory usage\n",
    "\n",
    "- Node memory info\n",
    "    - Number of object ids in scope\n",
    "    - Used object store memory\n",
    "    \n",
    "In the example below, all objects (strings) are stored on the node. Different from above example, used local object memory is alwasy zero in this case. "
   ]
  },
  {
   "cell_type": "code",
   "execution_count": 7,
   "metadata": {},
   "outputs": [],
   "source": [
    "@ray.remote\n",
    "class C(object):\n",
    "    def __init__(self):\n",
    "        self.object_ids = []\n",
    "    \n",
    "    def push(self):\n",
    "        object_id = ray.put(\"test\")\n",
    "        self.object_ids.append(object_id)\n",
    "        time.sleep(1)\n",
    "        return object_id\n",
    "    \n",
    "    def clean_memory(self):\n",
    "        del self.object_ids\n",
    "        \n",
    "@ray.remote\n",
    "class D(object):\n",
    "    def __init__(self):\n",
    "        self.object_ids = []\n",
    "        \n",
    "    def fetch(self):\n",
    "        c = C.remote()\n",
    "        \n",
    "        for idx in range(20):\n",
    "            ray.show_in_webui(\"Loop index = {}...\".format(idx))\n",
    "            time.sleep(0.5)\n",
    "            object_id = ray.get(c.push.remote())\n",
    "            self.object_ids.append(object_id)  \n",
    "\n",
    "    def clean_memory(self):\n",
    "        del self.object_ids\n",
    "        \n",
    "d = D.remote()\n",
    "_ = d.fetch.remote()"
   ]
  },
  {
   "cell_type": "markdown",
   "metadata": {},
   "source": [
    "The following command clears out the number of object ids in scope for actor `d`, as all object ids become out of scope after `self.object_ids` is deleted."
   ]
  },
  {
   "cell_type": "code",
   "execution_count": 9,
   "metadata": {},
   "outputs": [
    {
     "name": "stderr",
     "output_type": "stream",
     "text": [
      "2020-01-24 13:44:32,885\tERROR worker.py:1003 -- Possible unhandled error from worker: \u001b[36mray::D.clean_memory()\u001b[39m (pid=10987, ip=192.168.1.27)\n",
      "  File \"python/ray/_raylet.pyx\", line 650, in ray._raylet.execute_task\n",
      "  File \"python/ray/_raylet.pyx\", line 623, in function_executor\n",
      "  File \"<ipython-input-7-e3f91fd69418>\", line 30, in clean_memory\n",
      "AttributeError: object_ids\n"
     ]
    }
   ],
   "source": [
    "_ = d.clean_memory.remote()"
   ]
  },
  {
   "cell_type": "markdown",
   "metadata": {},
   "source": [
    "### Profile python program with py-spy\n",
    "\n",
    "Clicking the `profling` button on the dashboard launches `py-spy` that times your python program. The timing information will be visualized as flamegraph in a new browser tab. "
   ]
  },
  {
   "cell_type": "code",
   "execution_count": 10,
   "metadata": {
    "scrolled": false
   },
   "outputs": [
    {
     "name": "stdout",
     "output_type": "stream",
     "text": [
      "http://localhost:8267/speedscope/index.html#profileURL=http%3A//localhost%3A8267/api/get_profiling_info%3Fprofiling_id%3D8420dc14-cd89-4347-b546-a6b761822a03\n"
     ]
    }
   ],
   "source": [
    "import urllib.parse\n",
    "\n",
    "def operation_add():\n",
    "    t = time.time()\n",
    "    x = 0\n",
    "    while time.time() - t < 20:\n",
    "        x += 1\n",
    "    return x\n",
    "\n",
    "@ray.remote\n",
    "class A(object):\n",
    "    def __init__(self):\n",
    "        pass\n",
    "    \n",
    "    def test(self):\n",
    "        for _ in range(10):\n",
    "            operation_add()\n",
    "        \n",
    "    def getpid(self):\n",
    "        return os.getpid()\n",
    "\n",
    "a = A.remote()\n",
    "actor_pid = ray.get(a.getpid.remote())\n",
    "a.test.remote()\n",
    "\n",
    "webui_url = addresses[\"webui_url\"]\n",
    "launch_profiling_url = \"http://{}/api/launch_profiling?node_id={}&pid={}&duration=10\".format(webui_url, ray.nodes()[0][\"NodeID\"], actor_pid)\n",
    "profiling_id = requests.get(launch_profiling_url).json()\n",
    "while True:\n",
    "    check_status_url = \"http://{}/api/check_profiling_status?profiling_id={}\".format(webui_url, profiling_id)\n",
    "    status = requests.get(check_status_url).json()\n",
    "    if status[\"status\"] == \"finished\":\n",
    "        profiling_url = \"http://{}/api/get_profiling_info?profiling_id={}\".format(webui_url, profiling_id)\n",
    "        encoded_profile_url = urllib.parse.quote(profiling_url)\n",
    "        print(\"http://{}/speedscope/index.html#profileURL={}\".format(webui_url, encoded_profile_url))\n",
    "        break"
   ]
  },
  {
   "cell_type": "markdown",
   "metadata": {},
   "source": [
    "### Example\n",
    "\n",
    "The logical view of the dashboard allows you to track the progress (training accuracy, constructor configuration, the number of task completed, the name of the task currently executed, memory usage, etc.) of all parallel actors."
   ]
  },
  {
   "cell_type": "markdown",
   "metadata": {},
   "source": [
    "### Example 1: Monitor distributed actors\n",
    "\n",
    "Reference: github issue #3609, @EricSteinberger"
   ]
  },
  {
   "cell_type": "code",
   "execution_count": 12,
   "metadata": {},
   "outputs": [
    {
     "name": "stderr",
     "output_type": "stream",
     "text": [
      "2020-01-24 13:50:02,863\tWARNING worker.py:1063 -- The actor or task with ID ffffffffffffffff9a5d22230100 is pending and cannot currently be scheduled. It requires {CPU: 1.000000} for execution and {CPU: 1.000000} for placement, but this node only has remaining {node:192.168.1.27: 1.000000}, {CPU: 13.000000}, {object_store_memory: 1.074219 GiB}, {memory: 3.222656 GiB}. In total there are 0 pending tasks and 1 pending actors on this node. This is likely due to all cluster resources being claimed by actors. To resolve the issue, consider creating fewer actors or increase the resources available to this Ray cluster. You can ignore this message if this Ray cluster is expected to auto-scale.\n"
     ]
    },
    {
     "name": "stdout",
     "output_type": "stream",
     "text": [
      "Test: num_actors = 4, time = 12.881106853485107\n"
     ]
    }
   ],
   "source": [
    "import torch\n",
    "\n",
    "\n",
    "class NeuralNet(torch.nn.Module):\n",
    "    def __init__(self):\n",
    "        super().__init__()\n",
    "        self.l = torch.nn.Linear(1000, 2048)\n",
    "        self.l2 = torch.nn.Linear(2048, 2)\n",
    "\n",
    "    def forward(self, x):\n",
    "        return self.l2(self.l(x))\n",
    "\n",
    "\n",
    "@ray.remote(num_cpus=1)\n",
    "class TestActor:\n",
    "    def __init__(self):\n",
    "        self.net = NeuralNet()\n",
    "\n",
    "    def test(self, batch_size):\n",
    "        p = self.net(torch.rand((batch_size, 1000),))\n",
    "        \n",
    "def test(num_actors):\n",
    "    t = time.time()\n",
    "    actors = [TestActor.remote() for _ in range(num_actors)]\n",
    "\n",
    "    t = time.time()\n",
    "    for _ in range(5000//num_actors):\n",
    "        ray.get([actor.test.remote(128) for actor in actors])\n",
    "    \n",
    "    print(f\"Test: num_actors = {num_actors}, time = {time.time() - t}\")\n",
    "\n",
    "\n",
    "# %env OMP_NUM_THREADS=1\n",
    "\n",
    "test(num_actors=4)"
   ]
  },
  {
   "cell_type": "markdown",
   "metadata": {},
   "source": [
    "### Example 2: Distributed network training"
   ]
  },
  {
   "cell_type": "markdown",
   "metadata": {},
   "source": [
    "Reference: github issue #6633, @JaeLiiin"
   ]
  },
  {
   "cell_type": "code",
   "execution_count": 13,
   "metadata": {
    "scrolled": true
   },
   "outputs": [],
   "source": [
    "%%capture\n",
    "\n",
    "from tensorflow.keras import layers\n",
    "import json\n",
    "\n",
    "\n",
    "def create_keras_model():\n",
    "    import tensorflow as tf\n",
    "    model = tf.keras.Sequential()\n",
    "    # Adds a densely-connected layer with 64 units to the model:\n",
    "    model.add(layers.Dense(64, activation=\"relu\", input_shape=(32, )))\n",
    "    # Add another:\n",
    "    model.add(layers.Dense(64, activation=\"relu\"))\n",
    "    # Add a softmax layer with 10 output units:\n",
    "    model.add(layers.Dense(10, activation=\"softmax\"))\n",
    "\n",
    "    model.compile(\n",
    "        optimizer=tf.keras.optimizers.RMSprop(0.01),\n",
    "        loss=tf.keras.losses.categorical_crossentropy,\n",
    "        metrics=[tf.keras.metrics.categorical_accuracy])\n",
    "    return model\n",
    "\n",
    "\n",
    "def random_one_hot_labels(shape):\n",
    "    n, n_class = shape\n",
    "    classes = np.random.randint(0, n_class, n)\n",
    "    labels = np.zeros((n, n_class))\n",
    "    labels[np.arange(n), classes] = 1\n",
    "    return labels\n",
    "\n",
    "\n",
    "@ray.remote\n",
    "class Network(object):\n",
    "    def __init__(self):\n",
    "        self.model = create_keras_model()\n",
    "        self.dataset = np.random.random((1000, 32))\n",
    "        self.labels = random_one_hot_labels((1000, 10))\n",
    "\n",
    "    def train(self):\n",
    "        history = self.model.fit(self.dataset, self.labels, verbose=False)\n",
    "        time.sleep(0.5)\n",
    "        ray.show_in_webui(repr(history.history))\n",
    "        return history.history\n",
    "\n",
    "    def get_weights(self):\n",
    "        return self.model.get_weights()\n",
    "\n",
    "    def set_weights(self, weights):\n",
    "        # Note that for simplicity this does not handle the optimizer state.\n",
    "        self.model.set_weights(weights)"
   ]
  },
  {
   "cell_type": "code",
   "execution_count": 14,
   "metadata": {},
   "outputs": [],
   "source": [
    "%%capture\n",
    "\n",
    "result_object_ids = []\n",
    "result2_object_ids = []\n",
    "\n",
    "NetworkActor = Network.remote()\n",
    "NetworkActor2 = Network.remote()\n",
    "\n",
    "for itr in range(20):\n",
    "    weights = ray.get(\n",
    "        [NetworkActor.get_weights.remote(),\n",
    "         NetworkActor2.get_weights.remote()])\n",
    "\n",
    "    averaged_weights = [(layer1 + layer2) / 2\n",
    "                        for layer1, layer2 in zip(weights[0], weights[1])]\n",
    "\n",
    "    weight_id = ray.put(averaged_weights)\n",
    "    [\n",
    "        actor.set_weights.remote(weight_id)\n",
    "        for actor in [NetworkActor, NetworkActor2]\n",
    "    ]\n",
    "    result_object_ids.append(NetworkActor.train.remote())\n",
    "    result2_object_ids.append(NetworkActor2.train.remote())"
   ]
  },
  {
   "cell_type": "markdown",
   "metadata": {},
   "source": [
    "### Example 3: monitor MNIST training with tune\n",
    "- Actor construction which exposes parameter configuration\n",
    "- Task execution\n",
    "    - Number of tasks executed\n",
    "    - Function descriptor of currently executed task\n",
    "    - Number of pending tasks listed on the task queue\n",
    "- Training accuracy shown as actor message"
   ]
  },
  {
   "cell_type": "markdown",
   "metadata": {},
   "source": [
    "Reference: ray docs"
   ]
  },
  {
   "cell_type": "code",
   "execution_count": 15,
   "metadata": {
    "scrolled": true
   },
   "outputs": [
    {
     "name": "stderr",
     "output_type": "stream",
     "text": [
      "2020-01-24 13:51:12,748\tINFO function_runner.py:250 -- tune.track signature detected.\n",
      "2020-01-24 13:51:12,759\tERROR logger.py:328 -- pip install 'ray[tune]' to see TensorBoard files.\n",
      "2020-01-24 13:51:12,760\tWARNING logger.py:417 -- Could not instantiate TBXLogger: No module named 'tensorboardX'.\n"
     ]
    },
    {
     "data": {
      "text/html": [
       "== Status ==<br>Memory usage on this node: 10.9/16.0 GiB<br>Using FIFO scheduling algorithm.<br>Resources requested: 1/16 CPUs, 0/0 GPUs, 0.0/3.22 GiB heap, 0.0/1.07 GiB objects<br>Result logdir: /Users/yunzhi/ray_results/train_mnist<br>Number of trials: 3 (1 RUNNING, 2 PENDING)<br><table>\n",
       "<thead>\n",
       "<tr><th>Trial name          </th><th>status  </th><th>loc  </th><th>lr  </th></tr>\n",
       "</thead>\n",
       "<tbody>\n",
       "<tr><td>train_mnist_a365d86e</td><td>RUNNING </td><td>     </td><td>    </td></tr>\n",
       "<tr><td>train_mnist_a365f6be</td><td>PENDING </td><td>     </td><td>    </td></tr>\n",
       "<tr><td>train_mnist_a3661158</td><td>PENDING </td><td>     </td><td>    </td></tr>\n",
       "</tbody>\n",
       "</table><br><br>"
      ],
      "text/plain": [
       "<IPython.core.display.HTML object>"
      ]
     },
     "metadata": {},
     "output_type": "display_data"
    },
    {
     "name": "stderr",
     "output_type": "stream",
     "text": [
      "2020-01-24 13:51:12,781\tERROR logger.py:328 -- pip install 'ray[tune]' to see TensorBoard files.\n",
      "2020-01-24 13:51:12,782\tWARNING logger.py:417 -- Could not instantiate TBXLogger: No module named 'tensorboardX'.\n",
      "2020-01-24 13:51:12,796\tERROR logger.py:328 -- pip install 'ray[tune]' to see TensorBoard files.\n",
      "2020-01-24 13:51:12,796\tWARNING logger.py:417 -- Could not instantiate TBXLogger: No module named 'tensorboardX'.\n"
     ]
    },
    {
     "name": "stdout",
     "output_type": "stream",
     "text": [
      "Result for train_mnist_a365d86e:\n",
      "  date: 2020-01-24_13-51-13\n",
      "  done: false\n",
      "  experiment_id: bc38c427222d4d2e8683e0c78761c68e\n",
      "  experiment_tag: 0_lr=0.001\n",
      "  hostname: Yunzhis-MacBook-Pro.local\n",
      "  iterations_since_restore: 1\n",
      "  mean_accuracy: 0.14375\n",
      "  node_ip: 192.168.1.27\n",
      "  pid: 11035\n",
      "  time_since_restore: 0.3523221015930176\n",
      "  time_this_iter_s: 0.3523221015930176\n",
      "  time_total_s: 0.3523221015930176\n",
      "  timestamp: 1579902673\n",
      "  timesteps_since_restore: 0\n",
      "  training_iteration: 0\n",
      "  trial_id: a365d86e\n",
      "  \n",
      "Result for train_mnist_a3661158:\n",
      "  date: 2020-01-24_13-51-14\n",
      "  done: false\n",
      "  experiment_id: 5bfd9aad111f45cfb86163c0dc263032\n",
      "  experiment_tag: 2_lr=0.1\n",
      "  hostname: Yunzhis-MacBook-Pro.local\n",
      "  iterations_since_restore: 1\n",
      "  mean_accuracy: 0.4625\n",
      "  node_ip: 192.168.1.27\n",
      "  pid: 11043\n",
      "  time_since_restore: 0.2247622013092041\n",
      "  time_this_iter_s: 0.2247622013092041\n",
      "  time_total_s: 0.2247622013092041\n",
      "  timestamp: 1579902674\n",
      "  timesteps_since_restore: 0\n",
      "  training_iteration: 0\n",
      "  trial_id: a3661158\n",
      "  \n",
      "Result for train_mnist_a365f6be:\n",
      "  date: 2020-01-24_13-51-14\n",
      "  done: false\n",
      "  experiment_id: 1cadce5c241d44f4a3ab2cf53f91b61c\n",
      "  experiment_tag: 1_lr=0.01\n",
      "  hostname: Yunzhis-MacBook-Pro.local\n",
      "  iterations_since_restore: 1\n",
      "  mean_accuracy: 0.15625\n",
      "  node_ip: 192.168.1.27\n",
      "  pid: 11042\n",
      "  time_since_restore: 0.2781209945678711\n",
      "  time_this_iter_s: 0.2781209945678711\n",
      "  time_total_s: 0.2781209945678711\n",
      "  timestamp: 1579902674\n",
      "  timesteps_since_restore: 0\n",
      "  training_iteration: 0\n",
      "  trial_id: a365f6be\n",
      "  \n"
     ]
    },
    {
     "data": {
      "text/html": [
       "== Status ==<br>Memory usage on this node: 11.0/16.0 GiB<br>Using FIFO scheduling algorithm.<br>Resources requested: 3/16 CPUs, 0/0 GPUs, 0.0/3.22 GiB heap, 0.0/1.07 GiB objects<br>Result logdir: /Users/yunzhi/ray_results/train_mnist<br>Number of trials: 3 (3 RUNNING)<br><table>\n",
       "<thead>\n",
       "<tr><th>Trial name          </th><th>status  </th><th>loc               </th><th style=\"text-align: right;\">   lr</th><th style=\"text-align: right;\">  iter</th><th style=\"text-align: right;\">  total time (s)</th><th style=\"text-align: right;\">     acc</th></tr>\n",
       "</thead>\n",
       "<tbody>\n",
       "<tr><td>train_mnist_a365d86e</td><td>RUNNING </td><td>192.168.1.27:11035</td><td style=\"text-align: right;\">0.001</td><td style=\"text-align: right;\">    20</td><td style=\"text-align: right;\">         4.11773</td><td style=\"text-align: right;\">0.325   </td></tr>\n",
       "<tr><td>train_mnist_a365f6be</td><td>RUNNING </td><td>192.168.1.27:11042</td><td style=\"text-align: right;\">0.01 </td><td style=\"text-align: right;\">    15</td><td style=\"text-align: right;\">         3.05858</td><td style=\"text-align: right;\">0.75    </td></tr>\n",
       "<tr><td>train_mnist_a3661158</td><td>RUNNING </td><td>192.168.1.27:11043</td><td style=\"text-align: right;\">0.1  </td><td style=\"text-align: right;\">    16</td><td style=\"text-align: right;\">         3.17728</td><td style=\"text-align: right;\">0.884375</td></tr>\n",
       "</tbody>\n",
       "</table><br><br>"
      ],
      "text/plain": [
       "<IPython.core.display.HTML object>"
      ]
     },
     "metadata": {},
     "output_type": "display_data"
    },
    {
     "name": "stdout",
     "output_type": "stream",
     "text": [
      "Result for train_mnist_a365d86e:\n",
      "  date: 2020-01-24_13-51-19\n",
      "  done: false\n",
      "  experiment_id: bc38c427222d4d2e8683e0c78761c68e\n",
      "  experiment_tag: 0_lr=0.001\n",
      "  hostname: Yunzhis-MacBook-Pro.local\n",
      "  iterations_since_restore: 29\n",
      "  mean_accuracy: 0.396875\n",
      "  node_ip: 192.168.1.27\n",
      "  pid: 11035\n",
      "  time_since_restore: 5.485640048980713\n",
      "  time_this_iter_s: 0.16683387756347656\n",
      "  time_total_s: 5.485640048980713\n",
      "  timestamp: 1579902679\n",
      "  timesteps_since_restore: 0\n",
      "  training_iteration: 28\n",
      "  trial_id: a365d86e\n",
      "  \n",
      "Result for train_mnist_a3661158:\n",
      "  date: 2020-01-24_13-51-19\n",
      "  done: false\n",
      "  experiment_id: 5bfd9aad111f45cfb86163c0dc263032\n",
      "  experiment_tag: 2_lr=0.1\n",
      "  hostname: Yunzhis-MacBook-Pro.local\n",
      "  iterations_since_restore: 29\n",
      "  mean_accuracy: 0.953125\n",
      "  node_ip: 192.168.1.27\n",
      "  pid: 11043\n",
      "  time_since_restore: 5.240860939025879\n",
      "  time_this_iter_s: 0.168565034866333\n",
      "  time_total_s: 5.240860939025879\n",
      "  timestamp: 1579902679\n",
      "  timesteps_since_restore: 0\n",
      "  training_iteration: 28\n",
      "  trial_id: a3661158\n",
      "  \n",
      "Result for train_mnist_a365f6be:\n",
      "  date: 2020-01-24_13-51-19\n",
      "  done: false\n",
      "  experiment_id: 1cadce5c241d44f4a3ab2cf53f91b61c\n",
      "  experiment_tag: 1_lr=0.01\n",
      "  hostname: Yunzhis-MacBook-Pro.local\n",
      "  iterations_since_restore: 29\n",
      "  mean_accuracy: 0.878125\n",
      "  node_ip: 192.168.1.27\n",
      "  pid: 11042\n",
      "  time_since_restore: 5.2848851680755615\n",
      "  time_this_iter_s: 0.1682600975036621\n",
      "  time_total_s: 5.2848851680755615\n",
      "  timestamp: 1579902679\n",
      "  timesteps_since_restore: 0\n",
      "  training_iteration: 28\n",
      "  trial_id: a365f6be\n",
      "  \n"
     ]
    },
    {
     "data": {
      "text/html": [
       "== Status ==<br>Memory usage on this node: 11.0/16.0 GiB<br>Using FIFO scheduling algorithm.<br>Resources requested: 3/16 CPUs, 0/0 GPUs, 0.0/3.22 GiB heap, 0.0/1.07 GiB objects<br>Result logdir: /Users/yunzhi/ray_results/train_mnist<br>Number of trials: 3 (3 RUNNING)<br><table>\n",
       "<thead>\n",
       "<tr><th>Trial name          </th><th>status  </th><th>loc               </th><th style=\"text-align: right;\">   lr</th><th style=\"text-align: right;\">  iter</th><th style=\"text-align: right;\">  total time (s)</th><th style=\"text-align: right;\">     acc</th></tr>\n",
       "</thead>\n",
       "<tbody>\n",
       "<tr><td>train_mnist_a365d86e</td><td>RUNNING </td><td>192.168.1.27:11035</td><td style=\"text-align: right;\">0.001</td><td style=\"text-align: right;\">    49</td><td style=\"text-align: right;\">         9.05493</td><td style=\"text-align: right;\">0.490625</td></tr>\n",
       "<tr><td>train_mnist_a365f6be</td><td>RUNNING </td><td>192.168.1.27:11042</td><td style=\"text-align: right;\">0.01 </td><td style=\"text-align: right;\">    45</td><td style=\"text-align: right;\">         8.17679</td><td style=\"text-align: right;\">0.890625</td></tr>\n",
       "<tr><td>train_mnist_a3661158</td><td>RUNNING </td><td>192.168.1.27:11043</td><td style=\"text-align: right;\">0.1  </td><td style=\"text-align: right;\">    45</td><td style=\"text-align: right;\">         8.11637</td><td style=\"text-align: right;\">0.921875</td></tr>\n",
       "</tbody>\n",
       "</table><br><br>"
      ],
      "text/plain": [
       "<IPython.core.display.HTML object>"
      ]
     },
     "metadata": {},
     "output_type": "display_data"
    },
    {
     "name": "stdout",
     "output_type": "stream",
     "text": [
      "Result for train_mnist_a365d86e:\n",
      "  date: 2020-01-24_13-51-24\n",
      "  done: false\n",
      "  experiment_id: bc38c427222d4d2e8683e0c78761c68e\n",
      "  experiment_tag: 0_lr=0.001\n",
      "  hostname: Yunzhis-MacBook-Pro.local\n",
      "  iterations_since_restore: 58\n",
      "  mean_accuracy: 0.584375\n",
      "  node_ip: 192.168.1.27\n",
      "  pid: 11035\n",
      "  time_since_restore: 10.498589038848877\n",
      "  time_this_iter_s: 0.19450712203979492\n",
      "  time_total_s: 10.498589038848877\n",
      "  timestamp: 1579902684\n",
      "  timesteps_since_restore: 0\n",
      "  training_iteration: 57\n",
      "  trial_id: a365d86e\n",
      "  \n",
      "Result for train_mnist_a3661158:\n",
      "  date: 2020-01-24_13-51-24\n",
      "  done: false\n",
      "  experiment_id: 5bfd9aad111f45cfb86163c0dc263032\n",
      "  experiment_tag: 2_lr=0.1\n",
      "  hostname: Yunzhis-MacBook-Pro.local\n",
      "  iterations_since_restore: 58\n",
      "  mean_accuracy: 0.946875\n",
      "  node_ip: 192.168.1.27\n",
      "  pid: 11043\n",
      "  time_since_restore: 10.377768993377686\n",
      "  time_this_iter_s: 0.20988988876342773\n",
      "  time_total_s: 10.377768993377686\n",
      "  timestamp: 1579902684\n",
      "  timesteps_since_restore: 0\n",
      "  training_iteration: 57\n",
      "  trial_id: a3661158\n",
      "  \n",
      "Result for train_mnist_a365f6be:\n",
      "  date: 2020-01-24_13-51-25\n",
      "  done: false\n",
      "  experiment_id: 1cadce5c241d44f4a3ab2cf53f91b61c\n",
      "  experiment_tag: 1_lr=0.01\n",
      "  hostname: Yunzhis-MacBook-Pro.local\n",
      "  iterations_since_restore: 58\n",
      "  mean_accuracy: 0.9\n",
      "  node_ip: 192.168.1.27\n",
      "  pid: 11042\n",
      "  time_since_restore: 10.454363346099854\n",
      "  time_this_iter_s: 0.20645713806152344\n",
      "  time_total_s: 10.454363346099854\n",
      "  timestamp: 1579902685\n",
      "  timesteps_since_restore: 0\n",
      "  training_iteration: 57\n",
      "  trial_id: a365f6be\n",
      "  \n"
     ]
    },
    {
     "data": {
      "text/html": [
       "== Status ==<br>Memory usage on this node: 11.1/16.0 GiB<br>Using FIFO scheduling algorithm.<br>Resources requested: 3/16 CPUs, 0/0 GPUs, 0.0/3.22 GiB heap, 0.0/1.07 GiB objects<br>Result logdir: /Users/yunzhi/ray_results/train_mnist<br>Number of trials: 3 (3 RUNNING)<br><table>\n",
       "<thead>\n",
       "<tr><th>Trial name          </th><th>status  </th><th>loc               </th><th style=\"text-align: right;\">   lr</th><th style=\"text-align: right;\">  iter</th><th style=\"text-align: right;\">  total time (s)</th><th style=\"text-align: right;\">     acc</th></tr>\n",
       "</thead>\n",
       "<tbody>\n",
       "<tr><td>train_mnist_a365d86e</td><td>RUNNING </td><td>192.168.1.27:11035</td><td style=\"text-align: right;\">0.001</td><td style=\"text-align: right;\">    76</td><td style=\"text-align: right;\">         14.1421</td><td style=\"text-align: right;\">0.7375  </td></tr>\n",
       "<tr><td>train_mnist_a365f6be</td><td>RUNNING </td><td>192.168.1.27:11042</td><td style=\"text-align: right;\">0.01 </td><td style=\"text-align: right;\">    71</td><td style=\"text-align: right;\">         13.104 </td><td style=\"text-align: right;\">0.934375</td></tr>\n",
       "<tr><td>train_mnist_a3661158</td><td>RUNNING </td><td>192.168.1.27:11043</td><td style=\"text-align: right;\">0.1  </td><td style=\"text-align: right;\">    72</td><td style=\"text-align: right;\">         13.2076</td><td style=\"text-align: right;\">0.95    </td></tr>\n",
       "</tbody>\n",
       "</table><br><br>"
      ],
      "text/plain": [
       "<IPython.core.display.HTML object>"
      ]
     },
     "metadata": {},
     "output_type": "display_data"
    },
    {
     "name": "stdout",
     "output_type": "stream",
     "text": [
      "Result for train_mnist_a365d86e:\n",
      "  date: 2020-01-24_13-51-29\n",
      "  done: false\n",
      "  experiment_id: bc38c427222d4d2e8683e0c78761c68e\n",
      "  experiment_tag: 0_lr=0.001\n",
      "  hostname: Yunzhis-MacBook-Pro.local\n",
      "  iterations_since_restore: 85\n",
      "  mean_accuracy: 0.7125\n",
      "  node_ip: 192.168.1.27\n",
      "  pid: 11035\n",
      "  time_since_restore: 15.64893388748169\n",
      "  time_this_iter_s: 0.18424487113952637\n",
      "  time_total_s: 15.64893388748169\n",
      "  timestamp: 1579902689\n",
      "  timesteps_since_restore: 0\n",
      "  training_iteration: 84\n",
      "  trial_id: a365d86e\n",
      "  \n",
      "Result for train_mnist_a3661158:\n",
      "  date: 2020-01-24_13-51-30\n",
      "  done: false\n",
      "  experiment_id: 5bfd9aad111f45cfb86163c0dc263032\n",
      "  experiment_tag: 2_lr=0.1\n",
      "  hostname: Yunzhis-MacBook-Pro.local\n",
      "  iterations_since_restore: 85\n",
      "  mean_accuracy: 0.95\n",
      "  node_ip: 192.168.1.27\n",
      "  pid: 11043\n",
      "  time_since_restore: 15.42218017578125\n",
      "  time_this_iter_s: 0.16505813598632812\n",
      "  time_total_s: 15.42218017578125\n",
      "  timestamp: 1579902690\n",
      "  timesteps_since_restore: 0\n",
      "  training_iteration: 84\n",
      "  trial_id: a3661158\n",
      "  \n",
      "Result for train_mnist_a365f6be:\n",
      "  date: 2020-01-24_13-51-30\n",
      "  done: false\n",
      "  experiment_id: 1cadce5c241d44f4a3ab2cf53f91b61c\n",
      "  experiment_tag: 1_lr=0.01\n",
      "  hostname: Yunzhis-MacBook-Pro.local\n",
      "  iterations_since_restore: 85\n",
      "  mean_accuracy: 0.9\n",
      "  node_ip: 192.168.1.27\n",
      "  pid: 11042\n",
      "  time_since_restore: 15.532648086547852\n",
      "  time_this_iter_s: 0.186600923538208\n",
      "  time_total_s: 15.532648086547852\n",
      "  timestamp: 1579902690\n",
      "  timesteps_since_restore: 0\n",
      "  training_iteration: 84\n",
      "  trial_id: a365f6be\n",
      "  \n"
     ]
    },
    {
     "data": {
      "text/html": [
       "== Status ==<br>Memory usage on this node: 10.9/16.0 GiB<br>Using FIFO scheduling algorithm.<br>Resources requested: 2/16 CPUs, 0/0 GPUs, 0.0/3.22 GiB heap, 0.0/1.07 GiB objects<br>Result logdir: /Users/yunzhi/ray_results/train_mnist<br>Number of trials: 3 (1 TERMINATED, 2 RUNNING)<br><table>\n",
       "<thead>\n",
       "<tr><th>Trial name          </th><th>status    </th><th>loc               </th><th style=\"text-align: right;\">   lr</th><th style=\"text-align: right;\">  iter</th><th style=\"text-align: right;\">  total time (s)</th><th style=\"text-align: right;\">     acc</th></tr>\n",
       "</thead>\n",
       "<tbody>\n",
       "<tr><td>train_mnist_a365d86e</td><td>TERMINATED</td><td>                  </td><td style=\"text-align: right;\">0.001</td><td style=\"text-align: right;\">    99</td><td style=\"text-align: right;\">         18.4761</td><td style=\"text-align: right;\">0.734375</td></tr>\n",
       "<tr><td>train_mnist_a365f6be</td><td>RUNNING   </td><td>192.168.1.27:11042</td><td style=\"text-align: right;\">0.01 </td><td style=\"text-align: right;\">    98</td><td style=\"text-align: right;\">         18.1631</td><td style=\"text-align: right;\">0.93125 </td></tr>\n",
       "<tr><td>train_mnist_a3661158</td><td>RUNNING   </td><td>192.168.1.27:11043</td><td style=\"text-align: right;\">0.1  </td><td style=\"text-align: right;\">    99</td><td style=\"text-align: right;\">         18.2372</td><td style=\"text-align: right;\">0.9625  </td></tr>\n",
       "</tbody>\n",
       "</table><br><br>"
      ],
      "text/plain": [
       "<IPython.core.display.HTML object>"
      ]
     },
     "metadata": {},
     "output_type": "display_data"
    },
    {
     "data": {
      "text/html": [
       "== Status ==<br>Memory usage on this node: 11.0/16.0 GiB<br>Using FIFO scheduling algorithm.<br>Resources requested: 0/16 CPUs, 0/0 GPUs, 0.0/3.22 GiB heap, 0.0/1.07 GiB objects<br>Result logdir: /Users/yunzhi/ray_results/train_mnist<br>Number of trials: 3 (3 TERMINATED)<br><table>\n",
       "<thead>\n",
       "<tr><th>Trial name          </th><th>status    </th><th>loc  </th><th style=\"text-align: right;\">   lr</th><th style=\"text-align: right;\">  iter</th><th style=\"text-align: right;\">  total time (s)</th><th style=\"text-align: right;\">     acc</th></tr>\n",
       "</thead>\n",
       "<tbody>\n",
       "<tr><td>train_mnist_a365d86e</td><td>TERMINATED</td><td>     </td><td style=\"text-align: right;\">0.001</td><td style=\"text-align: right;\">    99</td><td style=\"text-align: right;\">         18.4761</td><td style=\"text-align: right;\">0.734375</td></tr>\n",
       "<tr><td>train_mnist_a365f6be</td><td>TERMINATED</td><td>     </td><td style=\"text-align: right;\">0.01 </td><td style=\"text-align: right;\">    99</td><td style=\"text-align: right;\">         18.3608</td><td style=\"text-align: right;\">0.928125</td></tr>\n",
       "<tr><td>train_mnist_a3661158</td><td>TERMINATED</td><td>     </td><td style=\"text-align: right;\">0.1  </td><td style=\"text-align: right;\">    99</td><td style=\"text-align: right;\">         18.2372</td><td style=\"text-align: right;\">0.9625  </td></tr>\n",
       "</tbody>\n",
       "</table><br><br>"
      ],
      "text/plain": [
       "<IPython.core.display.HTML object>"
      ]
     },
     "metadata": {},
     "output_type": "display_data"
    },
    {
     "name": "stderr",
     "output_type": "stream",
     "text": [
      "2020-01-24 13:51:32,983\tINFO tune.py:330 -- Returning an analysis object by default. You can call `analysis.trials` to retrieve a list of trials. This message will be removed in future versions of Tune.\n"
     ]
    },
    {
     "name": "stdout",
     "output_type": "stream",
     "text": [
      "Best config:  {'lr': 0.1}\n"
     ]
    }
   ],
   "source": [
    "import torch.optim as optim\n",
    "from ray import tune\n",
    "from ray.tune.examples.mnist_pytorch import get_data_loaders, ConvNet, train, test\n",
    "\n",
    "\n",
    "def train_mnist(config):\n",
    "    train_loader, test_loader = get_data_loaders()\n",
    "    model = ConvNet()\n",
    "    optimizer = optim.SGD(model.parameters(), lr=config[\"lr\"])\n",
    "    for i in range(100):\n",
    "        train(model, optimizer, train_loader)\n",
    "        acc = test(model, test_loader)\n",
    "        ray.show_in_webui(str(acc))\n",
    "        tune.track.log(mean_accuracy=acc)\n",
    "\n",
    "\n",
    "analysis = tune.run(\n",
    "    train_mnist, config={\"lr\": tune.grid_search([0.001, 0.01, 0.1])})\n",
    "\n",
    "print(\"Best config: \", analysis.get_best_config(metric=\"mean_accuracy\"))\n",
    "\n",
    "# Get a dataframe for analyzing trial results.\n",
    "df = analysis.dataframe()"
   ]
  },
  {
   "cell_type": "code",
   "execution_count": null,
   "metadata": {},
   "outputs": [],
   "source": []
  }
 ],
 "metadata": {
  "kernelspec": {
   "display_name": "Python 3",
   "language": "python",
   "name": "python3"
  },
  "language_info": {
   "codemirror_mode": {
    "name": "ipython",
    "version": 3
   },
   "file_extension": ".py",
   "mimetype": "text/x-python",
   "name": "python",
   "nbconvert_exporter": "python",
   "pygments_lexer": "ipython3",
   "version": "3.7.4"
  }
 },
 "nbformat": 4,
 "nbformat_minor": 2
}
