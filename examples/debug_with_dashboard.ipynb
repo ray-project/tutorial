{
 "cells": [
  {
   "cell_type": "markdown",
   "metadata": {},
   "source": [
    "# Dashboard Overview\n",
    "\n",
    "This notebook walks though some examples to show the functinoality of ray dashboard. \n",
    "\n",
    "There are two views:\n",
    "1. Machine View, which groups actors by nodes. Information about occupied and total memory, resources, node ip address, logs, errors, etc. will be displayed. \n",
    "2. Logical View, which gorups actors by the hierachical structure. Actor `A` is the parent of actor `B` if `A` creates `B`. In this case, actor `B` will be placed as a nested actor of `A`. "
   ]
  },
  {
   "cell_type": "code",
   "execution_count": 3,
   "metadata": {},
   "outputs": [
    {
     "name": "stderr",
     "output_type": "stream",
     "text": [
      "2020-01-24 15:21:10,546\tINFO resource_spec.py:212 -- Starting Ray with 3.71 GiB memory available for workers and up to 1.88 GiB for objects. You can adjust these settings with ray.init(memory=<bytes>, object_store_memory=<bytes>).\n",
      "2020-01-24 15:21:10,797\tINFO services.py:1093 -- View the Ray dashboard at \u001b[1m\u001b[32mlocalhost:8273\u001b[39m\u001b[22m\n"
     ]
    },
    {
     "name": "stdout",
     "output_type": "stream",
     "text": [
      "Click here to open the dashboard: http://localhost:8273\n"
     ]
    }
   ],
   "source": [
    "import ray\n",
    "import os\n",
    "import time\n",
    "import numpy as np\n",
    "import requests\n",
    "\n",
    "addresses = ray.init()\n",
    "print(\"Click here to open the dashboard: http://{}\".format(addresses[\"webui_url\"]))"
   ]
  },
  {
   "cell_type": "markdown",
   "metadata": {},
   "source": [
    "### Debug blocked actor creation tasks\n",
    "\n",
    "If creating an actor requires resources (e.g. CPUs, GPUs, other custom resources) that are not currently available, the actor creation task becomes infeasible. It might causes hanging programs. \n",
    "\n",
    "To make developers aware of this issue, infeasible tasks are shown in red in the dashboard. \n",
    "\n",
    "![title](img/infeasible-task.png)"
   ]
  },
  {
   "cell_type": "code",
   "execution_count": 5,
   "metadata": {},
   "outputs": [
    {
     "name": "stderr",
     "output_type": "stream",
     "text": [
      "2020-01-24 15:24:29,294\tWARNING worker.py:1063 -- The actor or task with ID ffffffffffffffff1cc4b74c0100 is infeasible and cannot currently be scheduled. It requires {Custom: 1.000000} for execution and {Custom: 1.000000} for placement, however there are no nodes in the cluster that can provide the requested resources. To resolve this issue, consider reducing the resource requests of this task or add nodes that can fit the task.\n"
     ]
    },
    {
     "name": "stdout",
     "output_type": "stream",
     "text": [
      "Session hangs because actor A cannot be created. \n"
     ]
    }
   ],
   "source": [
    "@ray.remote(resources={\"Custom\": 1}, num_cpus=0)\n",
    "class A(object):\n",
    "    def __init__(self):\n",
    "        pass\n",
    "    \n",
    "    def f(self):\n",
    "        return 0\n",
    "        \n",
    "@ray.remote\n",
    "class B(object):\n",
    "    def __init__(self, x, y):\n",
    "        self.a = A.remote()\n",
    "        \n",
    "    def f(self):\n",
    "        return ray.get(self.a.f.remote())\n",
    "\n",
    "b = B.remote(3, y=5)\n",
    "\n",
    "try:\n",
    "    ray.get(b.f.remote(), timeout=2)\n",
    "except ray.exceptions.RayTimeoutError:\n",
    "    print(\"Session hangs because actor A cannot be created. \")"
   ]
  },
  {
   "cell_type": "markdown",
   "metadata": {},
   "source": [
    "### Inspect local memory usage\n",
    "\n",
    "The dashboard shows the following informaiton of local memory usage:\n",
    "- Number of object ids in scope\n",
    "- Number of local objects\n",
    "- Used Object Memory\n",
    "    \n",
    "In the example below, all objects (strings) are stored in local object memory. Used local object memory increases as the remote function `g` is repeatedly called. \n",
    "\n",
    "![title](img/local-memory-usage.png)"
   ]
  },
  {
   "cell_type": "code",
   "execution_count": 6,
   "metadata": {},
   "outputs": [],
   "source": [
    "@ray.remote\n",
    "def g():\n",
    "    return \"hello world!\"\n",
    "\n",
    "@ray.remote\n",
    "class A(object):\n",
    "    def f(self):\n",
    "        object_ids = []\n",
    "        for idx in range(50):\n",
    "            ray.show_in_webui(\"Loop index = {}...\".format(idx))\n",
    "            object_ids.append(g.remote())\n",
    "            time.sleep(0.5)\n",
    "\n",
    "a = A.remote()\n",
    "_ = a.f.remote()"
   ]
  },
  {
   "cell_type": "markdown",
   "metadata": {},
   "source": [
    "### Inspect node memory usage\n",
    "\n",
    "Different from above example, used local object memory will alwasy be zero here because all objects (strings) are stored on the node. \n",
    "\n",
    "![title](img/node-memory-usage.png)"
   ]
  },
  {
   "cell_type": "code",
   "execution_count": 7,
   "metadata": {},
   "outputs": [],
   "source": [
    "@ray.remote\n",
    "class C(object):\n",
    "    def __init__(self):\n",
    "        self.object_ids = []\n",
    "    \n",
    "    def push(self):\n",
    "        object_id = ray.put(\"test\")\n",
    "        self.object_ids.append(object_id)\n",
    "        time.sleep(1)\n",
    "        return object_id\n",
    "    \n",
    "    def clean_memory(self):\n",
    "        del self.object_ids\n",
    "        \n",
    "@ray.remote\n",
    "class D(object):\n",
    "    def __init__(self):\n",
    "        self.object_ids = []\n",
    "        \n",
    "    def fetch(self):\n",
    "        c = C.remote()\n",
    "        \n",
    "        for idx in range(20):\n",
    "            ray.show_in_webui(\"Loop index = {}...\".format(idx))\n",
    "            time.sleep(0.5)\n",
    "            object_id = ray.get(c.push.remote())\n",
    "            self.object_ids.append(object_id)  \n",
    "\n",
    "    def clean_memory(self):\n",
    "        del self.object_ids\n",
    "        \n",
    "d = D.remote()\n",
    "_ = d.fetch.remote()"
   ]
  },
  {
   "cell_type": "markdown",
   "metadata": {},
   "source": [
    "The following command clears out the number of object ids in scope for actor `d`, as all object ids become out of scope after `self.object_ids` is deleted. The field `NumObjectIdInScope` will be set to 0 on the dashboard. "
   ]
  },
  {
   "cell_type": "code",
   "execution_count": 9,
   "metadata": {},
   "outputs": [],
   "source": [
    "_ = d.clean_memory.remote()"
   ]
  },
  {
   "cell_type": "markdown",
   "metadata": {},
   "source": [
    "### Profile python program with py-spy\n",
    "\n",
    "Clicking the `profling` button on the dashboard launches `py-spy` that times your python program. The timing information will be visualized as flamegraph in a new browser tab. \n",
    "\n",
    "Checkout the example Learning to play Pong on ray documentation: https://ray.readthedocs.io/en/latest/auto_examples/plot_pong_example.html\n",
    "\n",
    "Click `profiling`, and click `Profiling result` when it is ready. Note that there could be multiple threads in the process and some are ray internal threads and the timing information may not be so interesting. Click the left and right arrow on the middle top to see profiling results on different threads.\n",
    "\n",
    "Now you can intuitively see where could be the computation bottleneck. More information on how to interpret the flamegraph is available at https://github.com/jlfwong/speedscope#usage.\n",
    "\n",
    "![title](img/profiling.png)"
   ]
  },
  {
   "cell_type": "markdown",
   "metadata": {},
   "source": [
    "### Example\n",
    "\n",
    "The logical view of the dashboard allows users to track the progress (training accuracy, constructor configuration, memory usage, etc.) of all parallel actors."
   ]
  },
  {
   "cell_type": "markdown",
   "metadata": {},
   "source": [
    "### Example 1: Monitor distributed actors\n",
    "\n",
    "Reference: github issue #3609, @EricSteinberger\n",
    "\n",
    "In this example, the dashboard displays parallel actors and report the number of tasks each actor has completed, the name of the task currently executed and the number of tasks pending on the queue. Click `collapse` if an actor spawns too many child actors.  \n",
    "\n",
    "![title](img/example-1.png)"
   ]
  },
  {
   "cell_type": "code",
   "execution_count": 10,
   "metadata": {},
   "outputs": [
    {
     "name": "stdout",
     "output_type": "stream",
     "text": [
      "Test: num_actors = 4, time = 14.119410037994385\n"
     ]
    }
   ],
   "source": [
    "import torch\n",
    "\n",
    "\n",
    "class NeuralNet(torch.nn.Module):\n",
    "    def __init__(self):\n",
    "        super().__init__()\n",
    "        self.l = torch.nn.Linear(1000, 2048)\n",
    "        self.l2 = torch.nn.Linear(2048, 2)\n",
    "\n",
    "    def forward(self, x):\n",
    "        return self.l2(self.l(x))\n",
    "\n",
    "\n",
    "@ray.remote(num_cpus=1)\n",
    "class TestActor:\n",
    "    def __init__(self):\n",
    "        self.net = NeuralNet()\n",
    "\n",
    "    def test(self, batch_size):\n",
    "        p = self.net(torch.rand((batch_size, 1000),))\n",
    "        \n",
    "def test(num_actors):\n",
    "    t = time.time()\n",
    "    actors = [TestActor.remote() for _ in range(num_actors)]\n",
    "\n",
    "    t = time.time()\n",
    "    for _ in range(5000//num_actors):\n",
    "        ray.get([actor.test.remote(128) for actor in actors])\n",
    "    \n",
    "    print(f\"Test: num_actors = {num_actors}, time = {time.time() - t}\")\n",
    "\n",
    "test(num_actors=4)"
   ]
  },
  {
   "cell_type": "markdown",
   "metadata": {},
   "source": [
    "### Example 2: Distributed network training"
   ]
  },
  {
   "cell_type": "markdown",
   "metadata": {},
   "source": [
    "Reference: github issue #6633, @JaeLiiin\n",
    "\n",
    "![title](img/example-2.png)"
   ]
  },
  {
   "cell_type": "code",
   "execution_count": 11,
   "metadata": {
    "scrolled": true
   },
   "outputs": [],
   "source": [
    "%%capture\n",
    "\n",
    "from tensorflow.keras import layers\n",
    "import json\n",
    "\n",
    "\n",
    "def create_keras_model():\n",
    "    import tensorflow as tf\n",
    "    model = tf.keras.Sequential()\n",
    "    # Adds a densely-connected layer with 64 units to the model:\n",
    "    model.add(layers.Dense(64, activation=\"relu\", input_shape=(32, )))\n",
    "    # Add another:\n",
    "    model.add(layers.Dense(64, activation=\"relu\"))\n",
    "    # Add a softmax layer with 10 output units:\n",
    "    model.add(layers.Dense(10, activation=\"softmax\"))\n",
    "\n",
    "    model.compile(\n",
    "        optimizer=tf.keras.optimizers.RMSprop(0.01),\n",
    "        loss=tf.keras.losses.categorical_crossentropy,\n",
    "        metrics=[tf.keras.metrics.categorical_accuracy])\n",
    "    return model\n",
    "\n",
    "\n",
    "def random_one_hot_labels(shape):\n",
    "    n, n_class = shape\n",
    "    classes = np.random.randint(0, n_class, n)\n",
    "    labels = np.zeros((n, n_class))\n",
    "    labels[np.arange(n), classes] = 1\n",
    "    return labels\n",
    "\n",
    "\n",
    "@ray.remote\n",
    "class Network(object):\n",
    "    def __init__(self):\n",
    "        self.model = create_keras_model()\n",
    "        self.dataset = np.random.random((1000, 32))\n",
    "        self.labels = random_one_hot_labels((1000, 10))\n",
    "\n",
    "    def train(self):\n",
    "        history = self.model.fit(self.dataset, self.labels, verbose=False)\n",
    "        time.sleep(0.5)\n",
    "        ray.show_in_webui(repr(history.history))\n",
    "        return history.history\n",
    "\n",
    "    def get_weights(self):\n",
    "        return self.model.get_weights()\n",
    "\n",
    "    def set_weights(self, weights):\n",
    "        # Note that for simplicity this does not handle the optimizer state.\n",
    "        self.model.set_weights(weights)"
   ]
  },
  {
   "cell_type": "code",
   "execution_count": 12,
   "metadata": {},
   "outputs": [],
   "source": [
    "%%capture\n",
    "\n",
    "result_object_ids = []\n",
    "result2_object_ids = []\n",
    "\n",
    "NetworkActor = Network.remote()\n",
    "NetworkActor2 = Network.remote()\n",
    "\n",
    "for itr in range(20):\n",
    "    weights = ray.get(\n",
    "        [NetworkActor.get_weights.remote(),\n",
    "         NetworkActor2.get_weights.remote()])\n",
    "\n",
    "    averaged_weights = [(layer1 + layer2) / 2\n",
    "                        for layer1, layer2 in zip(weights[0], weights[1])]\n",
    "\n",
    "    weight_id = ray.put(averaged_weights)\n",
    "    [\n",
    "        actor.set_weights.remote(weight_id)\n",
    "        for actor in [NetworkActor, NetworkActor2]\n",
    "    ]\n",
    "    result_object_ids.append(NetworkActor.train.remote())\n",
    "    result2_object_ids.append(NetworkActor2.train.remote())"
   ]
  },
  {
   "cell_type": "markdown",
   "metadata": {},
   "source": [
    "### Example 3: monitor MNIST training with tune\n",
    "- Actor construction which exposes parameter configuration\n",
    "- Task execution\n",
    "    - Number of tasks executed\n",
    "    - Function descriptor of currently executed task\n",
    "    - Number of pending tasks listed on the task queue\n",
    "- Training accuracy shown as actor message\n",
    "\n",
    "![title](img/example-3.png)"
   ]
  },
  {
   "cell_type": "code",
   "execution_count": 13,
   "metadata": {
    "scrolled": true
   },
   "outputs": [
    {
     "name": "stderr",
     "output_type": "stream",
     "text": [
      "2020-01-24 15:43:27,856\tINFO function_runner.py:250 -- tune.track signature detected.\n",
      "2020-01-24 15:43:27,869\tERROR logger.py:328 -- pip install 'ray[tune]' to see TensorBoard files.\n",
      "2020-01-24 15:43:27,869\tWARNING logger.py:417 -- Could not instantiate TBXLogger: No module named 'tensorboardX'.\n"
     ]
    },
    {
     "data": {
      "text/html": [
       "== Status ==<br>Memory usage on this node: 10.1/16.0 GiB<br>Using FIFO scheduling algorithm.<br>Resources requested: 1/16 CPUs, 0/0 GPUs, 0.0/3.71 GiB heap, 0.0/1.27 GiB objects<br>Result logdir: /Users/yunzhi/ray_results/train_mnist<br>Number of trials: 3 (1 RUNNING, 2 PENDING)<br><table>\n",
       "<thead>\n",
       "<tr><th>Trial name          </th><th>status  </th><th>loc  </th><th>lr  </th></tr>\n",
       "</thead>\n",
       "<tbody>\n",
       "<tr><td>train_mnist_51d5e2c2</td><td>RUNNING </td><td>     </td><td>    </td></tr>\n",
       "<tr><td>train_mnist_51d60950</td><td>PENDING </td><td>     </td><td>    </td></tr>\n",
       "<tr><td>train_mnist_51d627e6</td><td>PENDING </td><td>     </td><td>    </td></tr>\n",
       "</tbody>\n",
       "</table><br><br>"
      ],
      "text/plain": [
       "<IPython.core.display.HTML object>"
      ]
     },
     "metadata": {},
     "output_type": "display_data"
    },
    {
     "name": "stderr",
     "output_type": "stream",
     "text": [
      "2020-01-24 15:43:27,892\tERROR logger.py:328 -- pip install 'ray[tune]' to see TensorBoard files.\n",
      "2020-01-24 15:43:27,893\tWARNING logger.py:417 -- Could not instantiate TBXLogger: No module named 'tensorboardX'.\n",
      "2020-01-24 15:43:27,913\tERROR logger.py:328 -- pip install 'ray[tune]' to see TensorBoard files.\n",
      "2020-01-24 15:43:27,914\tWARNING logger.py:417 -- Could not instantiate TBXLogger: No module named 'tensorboardX'.\n"
     ]
    },
    {
     "name": "stdout",
     "output_type": "stream",
     "text": [
      "Result for train_mnist_51d60950:\n",
      "  date: 2020-01-24_15-43-31\n",
      "  done: false\n",
      "  experiment_id: 430041a749c3485e89b5a16dbcae3c66\n",
      "  experiment_tag: 1_lr=0.01\n",
      "  hostname: Yunzhis-MacBook-Pro.local\n",
      "  iterations_since_restore: 1\n",
      "  mean_accuracy: 0.23125\n",
      "  node_ip: 192.168.1.27\n",
      "  pid: 12308\n",
      "  time_since_restore: 0.363037109375\n",
      "  time_this_iter_s: 0.363037109375\n",
      "  time_total_s: 0.363037109375\n",
      "  timestamp: 1579909411\n",
      "  timesteps_since_restore: 0\n",
      "  training_iteration: 0\n",
      "  trial_id: 51d60950\n",
      "  \n",
      "Result for train_mnist_51d5e2c2:\n",
      "  date: 2020-01-24_15-43-31\n",
      "  done: false\n",
      "  experiment_id: 5e6369a0220c49359d02f5b5a19f21b8\n",
      "  experiment_tag: 0_lr=0.001\n",
      "  hostname: Yunzhis-MacBook-Pro.local\n",
      "  iterations_since_restore: 1\n",
      "  mean_accuracy: 0.065625\n",
      "  node_ip: 192.168.1.27\n",
      "  pid: 12309\n",
      "  time_since_restore: 0.46709609031677246\n",
      "  time_this_iter_s: 0.46709609031677246\n",
      "  time_total_s: 0.46709609031677246\n",
      "  timestamp: 1579909411\n",
      "  timesteps_since_restore: 0\n",
      "  training_iteration: 0\n",
      "  trial_id: 51d5e2c2\n",
      "  \n",
      "Result for train_mnist_51d627e6:\n",
      "  date: 2020-01-24_15-43-31\n",
      "  done: false\n",
      "  experiment_id: 77705b95fef6468ea13c986602e7a71c\n",
      "  experiment_tag: 2_lr=0.1\n",
      "  hostname: Yunzhis-MacBook-Pro.local\n",
      "  iterations_since_restore: 1\n",
      "  mean_accuracy: 0.503125\n",
      "  node_ip: 192.168.1.27\n",
      "  pid: 12307\n",
      "  time_since_restore: 0.512376070022583\n",
      "  time_this_iter_s: 0.512376070022583\n",
      "  time_total_s: 0.512376070022583\n",
      "  timestamp: 1579909411\n",
      "  timesteps_since_restore: 0\n",
      "  training_iteration: 0\n",
      "  trial_id: 51d627e6\n",
      "  \n"
     ]
    },
    {
     "data": {
      "text/html": [
       "== Status ==<br>Memory usage on this node: 10.4/16.0 GiB<br>Using FIFO scheduling algorithm.<br>Resources requested: 3/16 CPUs, 0/0 GPUs, 0.0/3.71 GiB heap, 0.0/1.27 GiB objects<br>Result logdir: /Users/yunzhi/ray_results/train_mnist<br>Number of trials: 3 (3 RUNNING)<br><table>\n",
       "<thead>\n",
       "<tr><th>Trial name          </th><th>status  </th><th>loc               </th><th style=\"text-align: right;\">   lr</th><th style=\"text-align: right;\">  iter</th><th style=\"text-align: right;\">  total time (s)</th><th style=\"text-align: right;\">   acc</th></tr>\n",
       "</thead>\n",
       "<tbody>\n",
       "<tr><td>train_mnist_51d5e2c2</td><td>RUNNING </td><td>192.168.1.27:12309</td><td style=\"text-align: right;\">0.001</td><td style=\"text-align: right;\">     6</td><td style=\"text-align: right;\">         1.96941</td><td style=\"text-align: right;\">0.05  </td></tr>\n",
       "<tr><td>train_mnist_51d60950</td><td>RUNNING </td><td>192.168.1.27:12308</td><td style=\"text-align: right;\">0.01 </td><td style=\"text-align: right;\">     7</td><td style=\"text-align: right;\">         2.12312</td><td style=\"text-align: right;\">0.775 </td></tr>\n",
       "<tr><td>train_mnist_51d627e6</td><td>RUNNING </td><td>192.168.1.27:12307</td><td style=\"text-align: right;\">0.1  </td><td style=\"text-align: right;\">     6</td><td style=\"text-align: right;\">         2.01397</td><td style=\"text-align: right;\">0.8375</td></tr>\n",
       "</tbody>\n",
       "</table><br><br>"
      ],
      "text/plain": [
       "<IPython.core.display.HTML object>"
      ]
     },
     "metadata": {},
     "output_type": "display_data"
    },
    {
     "name": "stdout",
     "output_type": "stream",
     "text": [
      "Result for train_mnist_51d60950:\n",
      "  date: 2020-01-24_15-43-36\n",
      "  done: false\n",
      "  experiment_id: 430041a749c3485e89b5a16dbcae3c66\n",
      "  experiment_tag: 1_lr=0.01\n",
      "  hostname: Yunzhis-MacBook-Pro.local\n",
      "  iterations_since_restore: 23\n",
      "  mean_accuracy: 0.85625\n",
      "  node_ip: 192.168.1.27\n",
      "  pid: 12308\n",
      "  time_since_restore: 5.452777147293091\n",
      "  time_this_iter_s: 0.21289515495300293\n",
      "  time_total_s: 5.452777147293091\n",
      "  timestamp: 1579909416\n",
      "  timesteps_since_restore: 0\n",
      "  training_iteration: 22\n",
      "  trial_id: 51d60950\n",
      "  \n",
      "Result for train_mnist_51d5e2c2:\n",
      "  date: 2020-01-24_15-43-36\n",
      "  done: false\n",
      "  experiment_id: 5e6369a0220c49359d02f5b5a19f21b8\n",
      "  experiment_tag: 0_lr=0.001\n",
      "  hostname: Yunzhis-MacBook-Pro.local\n",
      "  iterations_since_restore: 23\n",
      "  mean_accuracy: 0.128125\n",
      "  node_ip: 192.168.1.27\n",
      "  pid: 12309\n",
      "  time_since_restore: 5.5144970417022705\n",
      "  time_this_iter_s: 0.21251416206359863\n",
      "  time_total_s: 5.5144970417022705\n",
      "  timestamp: 1579909416\n",
      "  timesteps_since_restore: 0\n",
      "  training_iteration: 22\n",
      "  trial_id: 51d5e2c2\n",
      "  \n",
      "Result for train_mnist_51d627e6:\n",
      "  date: 2020-01-24_15-43-36\n",
      "  done: false\n",
      "  experiment_id: 77705b95fef6468ea13c986602e7a71c\n",
      "  experiment_tag: 2_lr=0.1\n",
      "  hostname: Yunzhis-MacBook-Pro.local\n",
      "  iterations_since_restore: 23\n",
      "  mean_accuracy: 0.90625\n",
      "  node_ip: 192.168.1.27\n",
      "  pid: 12307\n",
      "  time_since_restore: 5.559006929397583\n",
      "  time_this_iter_s: 0.2171010971069336\n",
      "  time_total_s: 5.559006929397583\n",
      "  timestamp: 1579909416\n",
      "  timesteps_since_restore: 0\n",
      "  training_iteration: 22\n",
      "  trial_id: 51d627e6\n",
      "  \n"
     ]
    },
    {
     "data": {
      "text/html": [
       "== Status ==<br>Memory usage on this node: 10.3/16.0 GiB<br>Using FIFO scheduling algorithm.<br>Resources requested: 3/16 CPUs, 0/0 GPUs, 0.0/3.71 GiB heap, 0.0/1.27 GiB objects<br>Result logdir: /Users/yunzhi/ray_results/train_mnist<br>Number of trials: 3 (3 RUNNING)<br><table>\n",
       "<thead>\n",
       "<tr><th>Trial name          </th><th>status  </th><th>loc               </th><th style=\"text-align: right;\">   lr</th><th style=\"text-align: right;\">  iter</th><th style=\"text-align: right;\">  total time (s)</th><th style=\"text-align: right;\">     acc</th></tr>\n",
       "</thead>\n",
       "<tbody>\n",
       "<tr><td>train_mnist_51d5e2c2</td><td>RUNNING </td><td>192.168.1.27:12309</td><td style=\"text-align: right;\">0.001</td><td style=\"text-align: right;\">    29</td><td style=\"text-align: right;\">         7.05838</td><td style=\"text-align: right;\">0.125   </td></tr>\n",
       "<tr><td>train_mnist_51d60950</td><td>RUNNING </td><td>192.168.1.27:12308</td><td style=\"text-align: right;\">0.01 </td><td style=\"text-align: right;\">    30</td><td style=\"text-align: right;\">         7.22034</td><td style=\"text-align: right;\">0.890625</td></tr>\n",
       "<tr><td>train_mnist_51d627e6</td><td>RUNNING </td><td>192.168.1.27:12307</td><td style=\"text-align: right;\">0.1  </td><td style=\"text-align: right;\">    29</td><td style=\"text-align: right;\">         7.10089</td><td style=\"text-align: right;\">0.884375</td></tr>\n",
       "</tbody>\n",
       "</table><br><br>"
      ],
      "text/plain": [
       "<IPython.core.display.HTML object>"
      ]
     },
     "metadata": {},
     "output_type": "display_data"
    },
    {
     "name": "stdout",
     "output_type": "stream",
     "text": [
      "Result for train_mnist_51d60950:\n",
      "  date: 2020-01-24_15-43-41\n",
      "  done: false\n",
      "  experiment_id: 430041a749c3485e89b5a16dbcae3c66\n",
      "  experiment_tag: 1_lr=0.01\n",
      "  hostname: Yunzhis-MacBook-Pro.local\n",
      "  iterations_since_restore: 45\n",
      "  mean_accuracy: 0.86875\n",
      "  node_ip: 192.168.1.27\n",
      "  pid: 12308\n",
      "  time_since_restore: 10.705771207809448\n",
      "  time_this_iter_s: 0.3253171443939209\n",
      "  time_total_s: 10.705771207809448\n",
      "  timestamp: 1579909421\n",
      "  timesteps_since_restore: 0\n",
      "  training_iteration: 44\n",
      "  trial_id: 51d60950\n",
      "  \n",
      "Result for train_mnist_51d5e2c2:\n",
      "  date: 2020-01-24_15-43-41\n",
      "  done: false\n",
      "  experiment_id: 5e6369a0220c49359d02f5b5a19f21b8\n",
      "  experiment_tag: 0_lr=0.001\n",
      "  hostname: Yunzhis-MacBook-Pro.local\n",
      "  iterations_since_restore: 45\n",
      "  mean_accuracy: 0.24375\n",
      "  node_ip: 192.168.1.27\n",
      "  pid: 12309\n",
      "  time_since_restore: 10.82926321029663\n",
      "  time_this_iter_s: 0.33666110038757324\n",
      "  time_total_s: 10.82926321029663\n",
      "  timestamp: 1579909421\n",
      "  timesteps_since_restore: 0\n",
      "  training_iteration: 44\n",
      "  trial_id: 51d5e2c2\n",
      "  \n",
      "Result for train_mnist_51d627e6:\n",
      "  date: 2020-01-24_15-43-41\n",
      "  done: false\n",
      "  experiment_id: 77705b95fef6468ea13c986602e7a71c\n",
      "  experiment_tag: 2_lr=0.1\n",
      "  hostname: Yunzhis-MacBook-Pro.local\n",
      "  iterations_since_restore: 45\n",
      "  mean_accuracy: 0.928125\n",
      "  node_ip: 192.168.1.27\n",
      "  pid: 12307\n",
      "  time_since_restore: 10.86169981956482\n",
      "  time_this_iter_s: 0.3371458053588867\n",
      "  time_total_s: 10.86169981956482\n",
      "  timestamp: 1579909421\n",
      "  timesteps_since_restore: 0\n",
      "  training_iteration: 44\n",
      "  trial_id: 51d627e6\n",
      "  \n"
     ]
    },
    {
     "data": {
      "text/html": [
       "== Status ==<br>Memory usage on this node: 10.4/16.0 GiB<br>Using FIFO scheduling algorithm.<br>Resources requested: 3/16 CPUs, 0/0 GPUs, 0.0/3.71 GiB heap, 0.0/1.27 GiB objects<br>Result logdir: /Users/yunzhi/ray_results/train_mnist<br>Number of trials: 3 (3 RUNNING)<br><table>\n",
       "<thead>\n",
       "<tr><th>Trial name          </th><th>status  </th><th>loc               </th><th style=\"text-align: right;\">   lr</th><th style=\"text-align: right;\">  iter</th><th style=\"text-align: right;\">  total time (s)</th><th style=\"text-align: right;\">     acc</th></tr>\n",
       "</thead>\n",
       "<tbody>\n",
       "<tr><td>train_mnist_51d5e2c2</td><td>RUNNING </td><td>192.168.1.27:12309</td><td style=\"text-align: right;\">0.001</td><td style=\"text-align: right;\">    49</td><td style=\"text-align: right;\">         12.1771</td><td style=\"text-align: right;\">0.25    </td></tr>\n",
       "<tr><td>train_mnist_51d60950</td><td>RUNNING </td><td>192.168.1.27:12308</td><td style=\"text-align: right;\">0.01 </td><td style=\"text-align: right;\">    50</td><td style=\"text-align: right;\">         12.3249</td><td style=\"text-align: right;\">0.909375</td></tr>\n",
       "<tr><td>train_mnist_51d627e6</td><td>RUNNING </td><td>192.168.1.27:12307</td><td style=\"text-align: right;\">0.1  </td><td style=\"text-align: right;\">    49</td><td style=\"text-align: right;\">         12.1976</td><td style=\"text-align: right;\">0.9125  </td></tr>\n",
       "</tbody>\n",
       "</table><br><br>"
      ],
      "text/plain": [
       "<IPython.core.display.HTML object>"
      ]
     },
     "metadata": {},
     "output_type": "display_data"
    },
    {
     "name": "stdout",
     "output_type": "stream",
     "text": [
      "Result for train_mnist_51d60950:\n",
      "  date: 2020-01-24_15-43-46\n",
      "  done: false\n",
      "  experiment_id: 430041a749c3485e89b5a16dbcae3c66\n",
      "  experiment_tag: 1_lr=0.01\n",
      "  hostname: Yunzhis-MacBook-Pro.local\n",
      "  iterations_since_restore: 64\n",
      "  mean_accuracy: 0.89375\n",
      "  node_ip: 192.168.1.27\n",
      "  pid: 12308\n",
      "  time_since_restore: 15.811901092529297\n",
      "  time_this_iter_s: 0.2762620449066162\n",
      "  time_total_s: 15.811901092529297\n",
      "  timestamp: 1579909426\n",
      "  timesteps_since_restore: 0\n",
      "  training_iteration: 63\n",
      "  trial_id: 51d60950\n",
      "  \n",
      "Result for train_mnist_51d5e2c2:\n",
      "  date: 2020-01-24_15-43-46\n",
      "  done: false\n",
      "  experiment_id: 5e6369a0220c49359d02f5b5a19f21b8\n",
      "  experiment_tag: 0_lr=0.001\n",
      "  hostname: Yunzhis-MacBook-Pro.local\n",
      "  iterations_since_restore: 64\n",
      "  mean_accuracy: 0.340625\n",
      "  node_ip: 192.168.1.27\n",
      "  pid: 12309\n",
      "  time_since_restore: 15.890575170516968\n",
      "  time_this_iter_s: 0.2264111042022705\n",
      "  time_total_s: 15.890575170516968\n",
      "  timestamp: 1579909426\n",
      "  timesteps_since_restore: 0\n",
      "  training_iteration: 63\n",
      "  trial_id: 51d5e2c2\n",
      "  \n",
      "Result for train_mnist_51d627e6:\n",
      "  date: 2020-01-24_15-43-46\n",
      "  done: false\n",
      "  experiment_id: 77705b95fef6468ea13c986602e7a71c\n",
      "  experiment_tag: 2_lr=0.1\n",
      "  hostname: Yunzhis-MacBook-Pro.local\n",
      "  iterations_since_restore: 64\n",
      "  mean_accuracy: 0.928125\n",
      "  node_ip: 192.168.1.27\n",
      "  pid: 12307\n",
      "  time_since_restore: 15.901074886322021\n",
      "  time_this_iter_s: 0.22142696380615234\n",
      "  time_total_s: 15.901074886322021\n",
      "  timestamp: 1579909426\n",
      "  timesteps_since_restore: 0\n",
      "  training_iteration: 63\n",
      "  trial_id: 51d627e6\n",
      "  \n"
     ]
    },
    {
     "data": {
      "text/html": [
       "== Status ==<br>Memory usage on this node: 10.3/16.0 GiB<br>Using FIFO scheduling algorithm.<br>Resources requested: 3/16 CPUs, 0/0 GPUs, 0.0/3.71 GiB heap, 0.0/1.27 GiB objects<br>Result logdir: /Users/yunzhi/ray_results/train_mnist<br>Number of trials: 3 (3 RUNNING)<br><table>\n",
       "<thead>\n",
       "<tr><th>Trial name          </th><th>status  </th><th>loc               </th><th style=\"text-align: right;\">   lr</th><th style=\"text-align: right;\">  iter</th><th style=\"text-align: right;\">  total time (s)</th><th style=\"text-align: right;\">     acc</th></tr>\n",
       "</thead>\n",
       "<tbody>\n",
       "<tr><td>train_mnist_51d5e2c2</td><td>RUNNING </td><td>192.168.1.27:12309</td><td style=\"text-align: right;\">0.001</td><td style=\"text-align: right;\">    69</td><td style=\"text-align: right;\">         17.2965</td><td style=\"text-align: right;\">0.365625</td></tr>\n",
       "<tr><td>train_mnist_51d60950</td><td>RUNNING </td><td>192.168.1.27:12308</td><td style=\"text-align: right;\">0.01 </td><td style=\"text-align: right;\">    70</td><td style=\"text-align: right;\">         17.4563</td><td style=\"text-align: right;\">0.8875  </td></tr>\n",
       "<tr><td>train_mnist_51d627e6</td><td>RUNNING </td><td>192.168.1.27:12307</td><td style=\"text-align: right;\">0.1  </td><td style=\"text-align: right;\">    69</td><td style=\"text-align: right;\">         17.3068</td><td style=\"text-align: right;\">0.921875</td></tr>\n",
       "</tbody>\n",
       "</table><br><br>"
      ],
      "text/plain": [
       "<IPython.core.display.HTML object>"
      ]
     },
     "metadata": {},
     "output_type": "display_data"
    },
    {
     "name": "stdout",
     "output_type": "stream",
     "text": [
      "Result for train_mnist_51d60950:\n",
      "  date: 2020-01-24_15-43-51\n",
      "  done: false\n",
      "  experiment_id: 430041a749c3485e89b5a16dbcae3c66\n",
      "  experiment_tag: 1_lr=0.01\n",
      "  hostname: Yunzhis-MacBook-Pro.local\n",
      "  iterations_since_restore: 86\n",
      "  mean_accuracy: 0.89375\n",
      "  node_ip: 192.168.1.27\n",
      "  pid: 12308\n",
      "  time_since_restore: 20.95795702934265\n",
      "  time_this_iter_s: 0.21814513206481934\n",
      "  time_total_s: 20.95795702934265\n",
      "  timestamp: 1579909431\n",
      "  timesteps_since_restore: 0\n",
      "  training_iteration: 85\n",
      "  trial_id: 51d60950\n",
      "  \n",
      "Result for train_mnist_51d5e2c2:\n",
      "  date: 2020-01-24_15-43-51\n",
      "  done: false\n",
      "  experiment_id: 5e6369a0220c49359d02f5b5a19f21b8\n",
      "  experiment_tag: 0_lr=0.001\n",
      "  hostname: Yunzhis-MacBook-Pro.local\n",
      "  iterations_since_restore: 86\n",
      "  mean_accuracy: 0.496875\n",
      "  node_ip: 192.168.1.27\n",
      "  pid: 12309\n",
      "  time_since_restore: 21.006662845611572\n",
      "  time_this_iter_s: 0.22823190689086914\n",
      "  time_total_s: 21.006662845611572\n",
      "  timestamp: 1579909431\n",
      "  timesteps_since_restore: 0\n",
      "  training_iteration: 85\n",
      "  trial_id: 51d5e2c2\n",
      "  \n",
      "Result for train_mnist_51d627e6:\n",
      "  date: 2020-01-24_15-43-51\n",
      "  done: false\n",
      "  experiment_id: 77705b95fef6468ea13c986602e7a71c\n",
      "  experiment_tag: 2_lr=0.1\n",
      "  hostname: Yunzhis-MacBook-Pro.local\n",
      "  iterations_since_restore: 86\n",
      "  mean_accuracy: 0.940625\n",
      "  node_ip: 192.168.1.27\n",
      "  pid: 12307\n",
      "  time_since_restore: 21.0240797996521\n",
      "  time_this_iter_s: 0.23275399208068848\n",
      "  time_total_s: 21.0240797996521\n",
      "  timestamp: 1579909431\n",
      "  timesteps_since_restore: 0\n",
      "  training_iteration: 85\n",
      "  trial_id: 51d627e6\n",
      "  \n"
     ]
    },
    {
     "data": {
      "text/html": [
       "== Status ==<br>Memory usage on this node: 10.2/16.0 GiB<br>Using FIFO scheduling algorithm.<br>Resources requested: 3/16 CPUs, 0/0 GPUs, 0.0/3.71 GiB heap, 0.0/1.27 GiB objects<br>Result logdir: /Users/yunzhi/ray_results/train_mnist<br>Number of trials: 3 (3 RUNNING)<br><table>\n",
       "<thead>\n",
       "<tr><th>Trial name          </th><th>status  </th><th>loc               </th><th style=\"text-align: right;\">   lr</th><th style=\"text-align: right;\">  iter</th><th style=\"text-align: right;\">  total time (s)</th><th style=\"text-align: right;\">     acc</th></tr>\n",
       "</thead>\n",
       "<tbody>\n",
       "<tr><td>train_mnist_51d5e2c2</td><td>RUNNING </td><td>192.168.1.27:12309</td><td style=\"text-align: right;\">0.001</td><td style=\"text-align: right;\">    91</td><td style=\"text-align: right;\">         22.3222</td><td style=\"text-align: right;\">0.5125  </td></tr>\n",
       "<tr><td>train_mnist_51d60950</td><td>RUNNING </td><td>192.168.1.27:12308</td><td style=\"text-align: right;\">0.01 </td><td style=\"text-align: right;\">    92</td><td style=\"text-align: right;\">         22.4896</td><td style=\"text-align: right;\">0.884375</td></tr>\n",
       "<tr><td>train_mnist_51d627e6</td><td>RUNNING </td><td>192.168.1.27:12307</td><td style=\"text-align: right;\">0.1  </td><td style=\"text-align: right;\">    91</td><td style=\"text-align: right;\">         22.3347</td><td style=\"text-align: right;\">0.946875</td></tr>\n",
       "</tbody>\n",
       "</table><br><br>"
      ],
      "text/plain": [
       "<IPython.core.display.HTML object>"
      ]
     },
     "metadata": {},
     "output_type": "display_data"
    },
    {
     "data": {
      "text/html": [
       "== Status ==<br>Memory usage on this node: 10.2/16.0 GiB<br>Using FIFO scheduling algorithm.<br>Resources requested: 0/16 CPUs, 0/0 GPUs, 0.0/3.71 GiB heap, 0.0/1.27 GiB objects<br>Result logdir: /Users/yunzhi/ray_results/train_mnist<br>Number of trials: 3 (3 TERMINATED)<br><table>\n",
       "<thead>\n",
       "<tr><th>Trial name          </th><th>status    </th><th>loc  </th><th style=\"text-align: right;\">   lr</th><th style=\"text-align: right;\">  iter</th><th style=\"text-align: right;\">  total time (s)</th><th style=\"text-align: right;\">    acc</th></tr>\n",
       "</thead>\n",
       "<tbody>\n",
       "<tr><td>train_mnist_51d5e2c2</td><td>TERMINATED</td><td>     </td><td style=\"text-align: right;\">0.001</td><td style=\"text-align: right;\">    99</td><td style=\"text-align: right;\">         24.1395</td><td style=\"text-align: right;\">0.5625 </td></tr>\n",
       "<tr><td>train_mnist_51d60950</td><td>TERMINATED</td><td>     </td><td style=\"text-align: right;\">0.01 </td><td style=\"text-align: right;\">    99</td><td style=\"text-align: right;\">         24.054 </td><td style=\"text-align: right;\">0.89375</td></tr>\n",
       "<tr><td>train_mnist_51d627e6</td><td>TERMINATED</td><td>     </td><td style=\"text-align: right;\">0.1  </td><td style=\"text-align: right;\">    99</td><td style=\"text-align: right;\">         24.1102</td><td style=\"text-align: right;\">0.95625</td></tr>\n",
       "</tbody>\n",
       "</table><br><br>"
      ],
      "text/plain": [
       "<IPython.core.display.HTML object>"
      ]
     },
     "metadata": {},
     "output_type": "display_data"
    },
    {
     "name": "stderr",
     "output_type": "stream",
     "text": [
      "2020-01-24 15:43:54,943\tINFO tune.py:330 -- Returning an analysis object by default. You can call `analysis.trials` to retrieve a list of trials. This message will be removed in future versions of Tune.\n"
     ]
    },
    {
     "name": "stdout",
     "output_type": "stream",
     "text": [
      "Best config:  {'lr': 0.1}\n"
     ]
    }
   ],
   "source": [
    "import torch.optim as optim\n",
    "from ray import tune\n",
    "from ray.tune.examples.mnist_pytorch import get_data_loaders, ConvNet, train, test\n",
    "\n",
    "\n",
    "def train_mnist(config):\n",
    "    train_loader, test_loader = get_data_loaders()\n",
    "    model = ConvNet()\n",
    "    optimizer = optim.SGD(model.parameters(), lr=config[\"lr\"])\n",
    "    for i in range(100):\n",
    "        train(model, optimizer, train_loader)\n",
    "        acc = test(model, test_loader)\n",
    "        ray.show_in_webui(str(acc))\n",
    "        tune.track.log(mean_accuracy=acc)\n",
    "\n",
    "\n",
    "analysis = tune.run(\n",
    "    train_mnist, config={\"lr\": tune.grid_search([0.001, 0.01, 0.1])})\n",
    "\n",
    "print(\"Best config: \", analysis.get_best_config(metric=\"mean_accuracy\"))\n",
    "\n",
    "# Get a dataframe for analyzing trial results.\n",
    "df = analysis.dataframe()"
   ]
  },
  {
   "cell_type": "markdown",
   "metadata": {},
   "source": [
    "More examples are available on https://ray.readthedocs.io/en/latest/auto_examples/overview.html.\n"
   ]
  },
  {
   "cell_type": "code",
   "execution_count": null,
   "metadata": {},
   "outputs": [],
   "source": []
  }
 ],
 "metadata": {
  "kernelspec": {
   "display_name": "Python 3",
   "language": "python",
   "name": "python3"
  },
  "language_info": {
   "codemirror_mode": {
    "name": "ipython",
    "version": 3
   },
   "file_extension": ".py",
   "mimetype": "text/x-python",
   "name": "python",
   "nbconvert_exporter": "python",
   "pygments_lexer": "ipython3",
   "version": "3.7.4"
  }
 },
 "nbformat": 4,
 "nbformat_minor": 2
}
